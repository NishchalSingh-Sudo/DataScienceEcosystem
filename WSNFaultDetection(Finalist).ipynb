{
  "cells": [
    {
      "cell_type": "markdown",
      "metadata": {
        "id": "view-in-github",
        "colab_type": "text"
      },
      "source": [
        "<a href=\"https://colab.research.google.com/github/NishchalSingh-Sudo/DataScienceEcosystem/blob/main/WSNFaultDetection(Finalist).ipynb\" target=\"_parent\"><img src=\"https://colab.research.google.com/assets/colab-badge.svg\" alt=\"Open In Colab\"/></a>"
      ]
    },
    {
      "cell_type": "markdown",
      "source": [],
      "metadata": {
        "id": "i2JPOA22ov-9"
      }
    },
    {
      "cell_type": "code",
      "execution_count": null,
      "metadata": {
        "colab": {
          "base_uri": "https://localhost:8080/"
        },
        "id": "fiQ9BpO9DVBr",
        "outputId": "72f21e7a-3a7a-4729-9fe6-36ab59aec44e"
      },
      "outputs": [
        {
          "output_type": "stream",
          "name": "stdout",
          "text": [
            "\u001b[33mWARNING: Skipping qiskit as it is not installed.\u001b[0m\u001b[33m\n",
            "\u001b[0m\u001b[33mWARNING: Skipping qiskit-aer as it is not installed.\u001b[0m\u001b[33m\n",
            "\u001b[0m\u001b[33mWARNING: Skipping qiskit-machine-learning as it is not installed.\u001b[0m\u001b[33m\n",
            "\u001b[0m\u001b[33mWARNING: Skipping qiskit-algorithms as it is not installed.\u001b[0m\u001b[33m\n",
            "\u001b[0m\u001b[33mWARNING: Skipping qiskit-ibm-runtime as it is not installed.\u001b[0m\u001b[33m\n",
            "\u001b[0m"
          ]
        }
      ],
      "source": [
        "!pip uninstall qiskit qiskit-aer qiskit-machine-learning qiskit-algorithms qiskit-ibm-runtime -y"
      ]
    },
    {
      "cell_type": "code",
      "execution_count": null,
      "metadata": {
        "colab": {
          "base_uri": "https://localhost:8080/"
        },
        "id": "OLWnlvbJDPRt",
        "outputId": "6c22a502-510a-4282-a59c-b29df0438336"
      },
      "outputs": [
        {
          "output_type": "stream",
          "name": "stdout",
          "text": [
            "Collecting qiskit==1.4.2\n",
            "  Downloading qiskit-1.4.2-cp39-abi3-manylinux_2_17_x86_64.manylinux2014_x86_64.whl.metadata (12 kB)\n",
            "Collecting qiskit-aer==0.16.3\n",
            "  Downloading qiskit_aer-0.16.3-cp311-cp311-manylinux_2_17_x86_64.manylinux2014_x86_64.whl.metadata (8.2 kB)\n",
            "Collecting qiskit-machine-learning==0.8.2\n",
            "  Downloading qiskit_machine_learning-0.8.2-py3-none-any.whl.metadata (13 kB)\n",
            "Collecting qiskit-algorithms==0.3\n",
            "  Downloading qiskit_algorithms-0.3.0-py3-none-any.whl.metadata (4.2 kB)\n",
            "Collecting rustworkx>=0.15.0 (from qiskit==1.4.2)\n",
            "  Downloading rustworkx-0.16.0-cp39-abi3-manylinux_2_17_x86_64.manylinux2014_x86_64.whl.metadata (10 kB)\n",
            "Requirement already satisfied: numpy<3,>=1.17 in /usr/local/lib/python3.11/dist-packages (from qiskit==1.4.2) (2.0.2)\n",
            "Requirement already satisfied: scipy>=1.5 in /usr/local/lib/python3.11/dist-packages (from qiskit==1.4.2) (1.15.3)\n",
            "Requirement already satisfied: sympy>=1.3 in /usr/local/lib/python3.11/dist-packages (from qiskit==1.4.2) (1.13.1)\n",
            "Requirement already satisfied: dill>=0.3 in /usr/local/lib/python3.11/dist-packages (from qiskit==1.4.2) (0.3.7)\n",
            "Requirement already satisfied: python-dateutil>=2.8.0 in /usr/local/lib/python3.11/dist-packages (from qiskit==1.4.2) (2.9.0.post0)\n",
            "Collecting stevedore>=3.0.0 (from qiskit==1.4.2)\n",
            "  Downloading stevedore-5.4.1-py3-none-any.whl.metadata (2.3 kB)\n",
            "Requirement already satisfied: typing-extensions in /usr/local/lib/python3.11/dist-packages (from qiskit==1.4.2) (4.14.0)\n",
            "Collecting symengine<0.14,>=0.11 (from qiskit==1.4.2)\n",
            "  Downloading symengine-0.13.0-cp311-cp311-manylinux_2_17_x86_64.manylinux2014_x86_64.whl.metadata (1.2 kB)\n",
            "Requirement already satisfied: psutil>=5 in /usr/local/lib/python3.11/dist-packages (from qiskit-aer==0.16.3) (5.9.5)\n",
            "Requirement already satisfied: scikit-learn>=1.2 in /usr/local/lib/python3.11/dist-packages (from qiskit-machine-learning==0.8.2) (1.6.1)\n",
            "Requirement already satisfied: setuptools>=40.1 in /usr/local/lib/python3.11/dist-packages (from qiskit-machine-learning==0.8.2) (75.2.0)\n",
            "Requirement already satisfied: six>=1.5 in /usr/local/lib/python3.11/dist-packages (from python-dateutil>=2.8.0->qiskit==1.4.2) (1.17.0)\n",
            "Requirement already satisfied: joblib>=1.2.0 in /usr/local/lib/python3.11/dist-packages (from scikit-learn>=1.2->qiskit-machine-learning==0.8.2) (1.5.1)\n",
            "Requirement already satisfied: threadpoolctl>=3.1.0 in /usr/local/lib/python3.11/dist-packages (from scikit-learn>=1.2->qiskit-machine-learning==0.8.2) (3.6.0)\n",
            "Collecting pbr>=2.0.0 (from stevedore>=3.0.0->qiskit==1.4.2)\n",
            "  Downloading pbr-6.1.1-py2.py3-none-any.whl.metadata (3.4 kB)\n",
            "Requirement already satisfied: mpmath<1.4,>=1.1.0 in /usr/local/lib/python3.11/dist-packages (from sympy>=1.3->qiskit==1.4.2) (1.3.0)\n",
            "Downloading qiskit-1.4.2-cp39-abi3-manylinux_2_17_x86_64.manylinux2014_x86_64.whl (6.8 MB)\n",
            "\u001b[2K   \u001b[90m━━━━━━━━━━━━━━━━━━━━━━━━━━━━━━━━━━━━━━━━\u001b[0m \u001b[32m6.8/6.8 MB\u001b[0m \u001b[31m43.6 MB/s\u001b[0m eta \u001b[36m0:00:00\u001b[0m\n",
            "\u001b[?25hDownloading qiskit_aer-0.16.3-cp311-cp311-manylinux_2_17_x86_64.manylinux2014_x86_64.whl (12.4 MB)\n",
            "\u001b[2K   \u001b[90m━━━━━━━━━━━━━━━━━━━━━━━━━━━━━━━━━━━━━━━━\u001b[0m \u001b[32m12.4/12.4 MB\u001b[0m \u001b[31m13.0 MB/s\u001b[0m eta \u001b[36m0:00:00\u001b[0m\n",
            "\u001b[?25hDownloading qiskit_machine_learning-0.8.2-py3-none-any.whl (231 kB)\n",
            "\u001b[2K   \u001b[90m━━━━━━━━━━━━━━━━━━━━━━━━━━━━━━━━━━━━━━━━\u001b[0m \u001b[32m231.6/231.6 kB\u001b[0m \u001b[31m16.5 MB/s\u001b[0m eta \u001b[36m0:00:00\u001b[0m\n",
            "\u001b[?25hDownloading qiskit_algorithms-0.3.0-py3-none-any.whl (308 kB)\n",
            "\u001b[2K   \u001b[90m━━━━━━━━━━━━━━━━━━━━━━━━━━━━━━━━━━━━━━━━\u001b[0m \u001b[32m308.6/308.6 kB\u001b[0m \u001b[31m19.7 MB/s\u001b[0m eta \u001b[36m0:00:00\u001b[0m\n",
            "\u001b[?25hDownloading rustworkx-0.16.0-cp39-abi3-manylinux_2_17_x86_64.manylinux2014_x86_64.whl (2.1 MB)\n",
            "\u001b[2K   \u001b[90m━━━━━━━━━━━━━━━━━━━━━━━━━━━━━━━━━━━━━━━━\u001b[0m \u001b[32m2.1/2.1 MB\u001b[0m \u001b[31m42.5 MB/s\u001b[0m eta \u001b[36m0:00:00\u001b[0m\n",
            "\u001b[?25hDownloading stevedore-5.4.1-py3-none-any.whl (49 kB)\n",
            "\u001b[2K   \u001b[90m━━━━━━━━━━━━━━━━━━━━━━━━━━━━━━━━━━━━━━━━\u001b[0m \u001b[32m49.5/49.5 kB\u001b[0m \u001b[31m2.3 MB/s\u001b[0m eta \u001b[36m0:00:00\u001b[0m\n",
            "\u001b[?25hDownloading symengine-0.13.0-cp311-cp311-manylinux_2_17_x86_64.manylinux2014_x86_64.whl (49.7 MB)\n",
            "\u001b[2K   \u001b[90m━━━━━━━━━━━━━━━━━━━━━━━━━━━━━━━━━━━━━━━━\u001b[0m \u001b[32m49.7/49.7 MB\u001b[0m \u001b[31m14.8 MB/s\u001b[0m eta \u001b[36m0:00:00\u001b[0m\n",
            "\u001b[?25hDownloading pbr-6.1.1-py2.py3-none-any.whl (108 kB)\n",
            "\u001b[2K   \u001b[90m━━━━━━━━━━━━━━━━━━━━━━━━━━━━━━━━━━━━━━━━\u001b[0m \u001b[32m109.0/109.0 kB\u001b[0m \u001b[31m9.0 MB/s\u001b[0m eta \u001b[36m0:00:00\u001b[0m\n",
            "\u001b[?25hInstalling collected packages: symengine, rustworkx, pbr, stevedore, qiskit, qiskit-machine-learning, qiskit-algorithms, qiskit-aer\n",
            "Successfully installed pbr-6.1.1 qiskit-1.4.2 qiskit-aer-0.16.3 qiskit-algorithms-0.3.0 qiskit-machine-learning-0.8.2 rustworkx-0.16.0 stevedore-5.4.1 symengine-0.13.0\n"
          ]
        }
      ],
      "source": [
        "!pip install \"qiskit==1.4.2\" \"qiskit-aer==0.16.3\" \"qiskit-machine-learning==0.8.2\" \"qiskit-algorithms==0.3\""
      ]
    },
    {
      "cell_type": "code",
      "execution_count": null,
      "metadata": {
        "colab": {
          "base_uri": "https://localhost:8080/"
        },
        "id": "js7BZDcWIZrr",
        "outputId": "fab0871c-3712-4451-ac79-503faedc3f67"
      },
      "outputs": [
        {
          "output_type": "stream",
          "name": "stdout",
          "text": [
            "Requirement already satisfied: qiskit-machine-learning in /usr/local/lib/python3.11/dist-packages (0.8.2)\n",
            "Collecting qiskit-ibm-runtime\n",
            "  Downloading qiskit_ibm_runtime-0.40.1-py3-none-any.whl.metadata (21 kB)\n",
            "Requirement already satisfied: qiskit>=1.0 in /usr/local/lib/python3.11/dist-packages (from qiskit-machine-learning) (1.4.2)\n",
            "Requirement already satisfied: scipy>=1.4 in /usr/local/lib/python3.11/dist-packages (from qiskit-machine-learning) (1.15.3)\n",
            "Requirement already satisfied: numpy>=1.17 in /usr/local/lib/python3.11/dist-packages (from qiskit-machine-learning) (2.0.2)\n",
            "Requirement already satisfied: psutil>=5 in /usr/local/lib/python3.11/dist-packages (from qiskit-machine-learning) (5.9.5)\n",
            "Requirement already satisfied: scikit-learn>=1.2 in /usr/local/lib/python3.11/dist-packages (from qiskit-machine-learning) (1.6.1)\n",
            "Requirement already satisfied: setuptools>=40.1 in /usr/local/lib/python3.11/dist-packages (from qiskit-machine-learning) (75.2.0)\n",
            "Requirement already satisfied: dill>=0.3.4 in /usr/local/lib/python3.11/dist-packages (from qiskit-machine-learning) (0.3.7)\n",
            "Requirement already satisfied: requests>=2.19 in /usr/local/lib/python3.11/dist-packages (from qiskit-ibm-runtime) (2.32.3)\n",
            "Collecting requests-ntlm>=1.1.0 (from qiskit-ibm-runtime)\n",
            "  Downloading requests_ntlm-1.3.0-py3-none-any.whl.metadata (2.4 kB)\n",
            "Requirement already satisfied: urllib3>=1.21.1 in /usr/local/lib/python3.11/dist-packages (from qiskit-ibm-runtime) (2.4.0)\n",
            "Requirement already satisfied: python-dateutil>=2.8.0 in /usr/local/lib/python3.11/dist-packages (from qiskit-ibm-runtime) (2.9.0.post0)\n",
            "Collecting ibm-platform-services>=0.22.6 (from qiskit-ibm-runtime)\n",
            "  Downloading ibm_platform_services-0.66.2-py3-none-any.whl.metadata (9.0 kB)\n",
            "Requirement already satisfied: pydantic>=2.5.0 in /usr/local/lib/python3.11/dist-packages (from qiskit-ibm-runtime) (2.11.5)\n",
            "Requirement already satisfied: packaging in /usr/local/lib/python3.11/dist-packages (from qiskit-ibm-runtime) (24.2)\n",
            "Collecting ibm_cloud_sdk_core<4.0.0,>=3.24.2 (from ibm-platform-services>=0.22.6->qiskit-ibm-runtime)\n",
            "  Downloading ibm_cloud_sdk_core-3.24.2-py3-none-any.whl.metadata (8.7 kB)\n",
            "Requirement already satisfied: annotated-types>=0.6.0 in /usr/local/lib/python3.11/dist-packages (from pydantic>=2.5.0->qiskit-ibm-runtime) (0.7.0)\n",
            "Requirement already satisfied: pydantic-core==2.33.2 in /usr/local/lib/python3.11/dist-packages (from pydantic>=2.5.0->qiskit-ibm-runtime) (2.33.2)\n",
            "Requirement already satisfied: typing-extensions>=4.12.2 in /usr/local/lib/python3.11/dist-packages (from pydantic>=2.5.0->qiskit-ibm-runtime) (4.14.0)\n",
            "Requirement already satisfied: typing-inspection>=0.4.0 in /usr/local/lib/python3.11/dist-packages (from pydantic>=2.5.0->qiskit-ibm-runtime) (0.4.1)\n",
            "Requirement already satisfied: six>=1.5 in /usr/local/lib/python3.11/dist-packages (from python-dateutil>=2.8.0->qiskit-ibm-runtime) (1.17.0)\n",
            "Requirement already satisfied: rustworkx>=0.15.0 in /usr/local/lib/python3.11/dist-packages (from qiskit>=1.0->qiskit-machine-learning) (0.16.0)\n",
            "Requirement already satisfied: sympy>=1.3 in /usr/local/lib/python3.11/dist-packages (from qiskit>=1.0->qiskit-machine-learning) (1.13.1)\n",
            "Requirement already satisfied: stevedore>=3.0.0 in /usr/local/lib/python3.11/dist-packages (from qiskit>=1.0->qiskit-machine-learning) (5.4.1)\n",
            "Requirement already satisfied: symengine<0.14,>=0.11 in /usr/local/lib/python3.11/dist-packages (from qiskit>=1.0->qiskit-machine-learning) (0.13.0)\n",
            "Requirement already satisfied: charset-normalizer<4,>=2 in /usr/local/lib/python3.11/dist-packages (from requests>=2.19->qiskit-ibm-runtime) (3.4.2)\n",
            "Requirement already satisfied: idna<4,>=2.5 in /usr/local/lib/python3.11/dist-packages (from requests>=2.19->qiskit-ibm-runtime) (3.10)\n",
            "Requirement already satisfied: certifi>=2017.4.17 in /usr/local/lib/python3.11/dist-packages (from requests>=2.19->qiskit-ibm-runtime) (2025.4.26)\n",
            "Requirement already satisfied: cryptography>=1.3 in /usr/local/lib/python3.11/dist-packages (from requests-ntlm>=1.1.0->qiskit-ibm-runtime) (43.0.3)\n",
            "Collecting pyspnego>=0.4.0 (from requests-ntlm>=1.1.0->qiskit-ibm-runtime)\n",
            "  Downloading pyspnego-0.11.2-py3-none-any.whl.metadata (5.4 kB)\n",
            "Requirement already satisfied: joblib>=1.2.0 in /usr/local/lib/python3.11/dist-packages (from scikit-learn>=1.2->qiskit-machine-learning) (1.5.1)\n",
            "Requirement already satisfied: threadpoolctl>=3.1.0 in /usr/local/lib/python3.11/dist-packages (from scikit-learn>=1.2->qiskit-machine-learning) (3.6.0)\n",
            "Requirement already satisfied: cffi>=1.12 in /usr/local/lib/python3.11/dist-packages (from cryptography>=1.3->requests-ntlm>=1.1.0->qiskit-ibm-runtime) (1.17.1)\n",
            "Collecting requests>=2.19 (from qiskit-ibm-runtime)\n",
            "  Downloading requests-2.32.4-py3-none-any.whl.metadata (4.9 kB)\n",
            "Requirement already satisfied: PyJWT<3.0.0,>=2.10.1 in /usr/local/lib/python3.11/dist-packages (from ibm_cloud_sdk_core<4.0.0,>=3.24.2->ibm-platform-services>=0.22.6->qiskit-ibm-runtime) (2.10.1)\n",
            "Requirement already satisfied: pbr>=2.0.0 in /usr/local/lib/python3.11/dist-packages (from stevedore>=3.0.0->qiskit>=1.0->qiskit-machine-learning) (6.1.1)\n",
            "Requirement already satisfied: mpmath<1.4,>=1.1.0 in /usr/local/lib/python3.11/dist-packages (from sympy>=1.3->qiskit>=1.0->qiskit-machine-learning) (1.3.0)\n",
            "Requirement already satisfied: pycparser in /usr/local/lib/python3.11/dist-packages (from cffi>=1.12->cryptography>=1.3->requests-ntlm>=1.1.0->qiskit-ibm-runtime) (2.22)\n",
            "Downloading qiskit_ibm_runtime-0.40.1-py3-none-any.whl (3.2 MB)\n",
            "\u001b[2K   \u001b[90m━━━━━━━━━━━━━━━━━━━━━━━━━━━━━━━━━━━━━━━━\u001b[0m \u001b[32m3.2/3.2 MB\u001b[0m \u001b[31m40.7 MB/s\u001b[0m eta \u001b[36m0:00:00\u001b[0m\n",
            "\u001b[?25hDownloading ibm_platform_services-0.66.2-py3-none-any.whl (363 kB)\n",
            "\u001b[2K   \u001b[90m━━━━━━━━━━━━━━━━━━━━━━━━━━━━━━━━━━━━━━━━\u001b[0m \u001b[32m363.9/363.9 kB\u001b[0m \u001b[31m24.7 MB/s\u001b[0m eta \u001b[36m0:00:00\u001b[0m\n",
            "\u001b[?25hDownloading requests_ntlm-1.3.0-py3-none-any.whl (6.6 kB)\n",
            "Downloading ibm_cloud_sdk_core-3.24.2-py3-none-any.whl (75 kB)\n",
            "\u001b[2K   \u001b[90m━━━━━━━━━━━━━━━━━━━━━━━━━━━━━━━━━━━━━━━━\u001b[0m \u001b[32m75.8/75.8 kB\u001b[0m \u001b[31m5.6 MB/s\u001b[0m eta \u001b[36m0:00:00\u001b[0m\n",
            "\u001b[?25hDownloading requests-2.32.4-py3-none-any.whl (64 kB)\n",
            "\u001b[2K   \u001b[90m━━━━━━━━━━━━━━━━━━━━━━━━━━━━━━━━━━━━━━━━\u001b[0m \u001b[32m64.8/64.8 kB\u001b[0m \u001b[31m4.7 MB/s\u001b[0m eta \u001b[36m0:00:00\u001b[0m\n",
            "\u001b[?25hDownloading pyspnego-0.11.2-py3-none-any.whl (130 kB)\n",
            "\u001b[2K   \u001b[90m━━━━━━━━━━━━━━━━━━━━━━━━━━━━━━━━━━━━━━━━\u001b[0m \u001b[32m130.5/130.5 kB\u001b[0m \u001b[31m6.9 MB/s\u001b[0m eta \u001b[36m0:00:00\u001b[0m\n",
            "\u001b[?25hInstalling collected packages: requests, ibm_cloud_sdk_core, pyspnego, ibm-platform-services, requests-ntlm, qiskit-ibm-runtime\n",
            "  Attempting uninstall: requests\n",
            "    Found existing installation: requests 2.32.3\n",
            "    Uninstalling requests-2.32.3:\n",
            "      Successfully uninstalled requests-2.32.3\n",
            "\u001b[31mERROR: pip's dependency resolver does not currently take into account all the packages that are installed. This behaviour is the source of the following dependency conflicts.\n",
            "google-colab 1.0.0 requires requests==2.32.3, but you have requests 2.32.4 which is incompatible.\u001b[0m\u001b[31m\n",
            "\u001b[0mSuccessfully installed ibm-platform-services-0.66.2 ibm_cloud_sdk_core-3.24.2 pyspnego-0.11.2 qiskit-ibm-runtime-0.40.1 requests-2.32.4 requests-ntlm-1.3.0\n",
            "Requirement already satisfied: scikit-learn in /usr/local/lib/python3.11/dist-packages (1.6.1)\n",
            "Requirement already satisfied: matplotlib in /usr/local/lib/python3.11/dist-packages (3.10.0)\n",
            "Requirement already satisfied: numpy in /usr/local/lib/python3.11/dist-packages (2.0.2)\n",
            "Requirement already satisfied: pandas in /usr/local/lib/python3.11/dist-packages (2.2.2)\n",
            "Requirement already satisfied: scipy>=1.6.0 in /usr/local/lib/python3.11/dist-packages (from scikit-learn) (1.15.3)\n",
            "Requirement already satisfied: joblib>=1.2.0 in /usr/local/lib/python3.11/dist-packages (from scikit-learn) (1.5.1)\n",
            "Requirement already satisfied: threadpoolctl>=3.1.0 in /usr/local/lib/python3.11/dist-packages (from scikit-learn) (3.6.0)\n",
            "Requirement already satisfied: contourpy>=1.0.1 in /usr/local/lib/python3.11/dist-packages (from matplotlib) (1.3.2)\n",
            "Requirement already satisfied: cycler>=0.10 in /usr/local/lib/python3.11/dist-packages (from matplotlib) (0.12.1)\n",
            "Requirement already satisfied: fonttools>=4.22.0 in /usr/local/lib/python3.11/dist-packages (from matplotlib) (4.58.1)\n",
            "Requirement already satisfied: kiwisolver>=1.3.1 in /usr/local/lib/python3.11/dist-packages (from matplotlib) (1.4.8)\n",
            "Requirement already satisfied: packaging>=20.0 in /usr/local/lib/python3.11/dist-packages (from matplotlib) (24.2)\n",
            "Requirement already satisfied: pillow>=8 in /usr/local/lib/python3.11/dist-packages (from matplotlib) (11.2.1)\n",
            "Requirement already satisfied: pyparsing>=2.3.1 in /usr/local/lib/python3.11/dist-packages (from matplotlib) (3.2.3)\n",
            "Requirement already satisfied: python-dateutil>=2.7 in /usr/local/lib/python3.11/dist-packages (from matplotlib) (2.9.0.post0)\n",
            "Requirement already satisfied: pytz>=2020.1 in /usr/local/lib/python3.11/dist-packages (from pandas) (2025.2)\n",
            "Requirement already satisfied: tzdata>=2022.7 in /usr/local/lib/python3.11/dist-packages (from pandas) (2025.2)\n",
            "Requirement already satisfied: six>=1.5 in /usr/local/lib/python3.11/dist-packages (from python-dateutil>=2.7->matplotlib) (1.17.0)\n",
            "Requirement already satisfied: qiskit-aer in /usr/local/lib/python3.11/dist-packages (0.16.3)\n",
            "Requirement already satisfied: qiskit>=1.1.0 in /usr/local/lib/python3.11/dist-packages (from qiskit-aer) (1.4.2)\n",
            "Requirement already satisfied: numpy>=1.16.3 in /usr/local/lib/python3.11/dist-packages (from qiskit-aer) (2.0.2)\n",
            "Requirement already satisfied: scipy>=1.0 in /usr/local/lib/python3.11/dist-packages (from qiskit-aer) (1.15.3)\n",
            "Requirement already satisfied: psutil>=5 in /usr/local/lib/python3.11/dist-packages (from qiskit-aer) (5.9.5)\n",
            "Requirement already satisfied: rustworkx>=0.15.0 in /usr/local/lib/python3.11/dist-packages (from qiskit>=1.1.0->qiskit-aer) (0.16.0)\n",
            "Requirement already satisfied: sympy>=1.3 in /usr/local/lib/python3.11/dist-packages (from qiskit>=1.1.0->qiskit-aer) (1.13.1)\n",
            "Requirement already satisfied: dill>=0.3 in /usr/local/lib/python3.11/dist-packages (from qiskit>=1.1.0->qiskit-aer) (0.3.7)\n",
            "Requirement already satisfied: python-dateutil>=2.8.0 in /usr/local/lib/python3.11/dist-packages (from qiskit>=1.1.0->qiskit-aer) (2.9.0.post0)\n",
            "Requirement already satisfied: stevedore>=3.0.0 in /usr/local/lib/python3.11/dist-packages (from qiskit>=1.1.0->qiskit-aer) (5.4.1)\n",
            "Requirement already satisfied: typing-extensions in /usr/local/lib/python3.11/dist-packages (from qiskit>=1.1.0->qiskit-aer) (4.14.0)\n",
            "Requirement already satisfied: symengine<0.14,>=0.11 in /usr/local/lib/python3.11/dist-packages (from qiskit>=1.1.0->qiskit-aer) (0.13.0)\n",
            "Requirement already satisfied: six>=1.5 in /usr/local/lib/python3.11/dist-packages (from python-dateutil>=2.8.0->qiskit>=1.1.0->qiskit-aer) (1.17.0)\n",
            "Requirement already satisfied: pbr>=2.0.0 in /usr/local/lib/python3.11/dist-packages (from stevedore>=3.0.0->qiskit>=1.1.0->qiskit-aer) (6.1.1)\n",
            "Requirement already satisfied: mpmath<1.4,>=1.1.0 in /usr/local/lib/python3.11/dist-packages (from sympy>=1.3->qiskit>=1.1.0->qiskit-aer) (1.3.0)\n",
            "Requirement already satisfied: setuptools in /usr/local/lib/python3.11/dist-packages (from pbr>=2.0.0->stevedore>=3.0.0->qiskit>=1.1.0->qiskit-aer) (75.2.0)\n",
            "Requirement already satisfied: qiskit-algorithms in /usr/local/lib/python3.11/dist-packages (0.3.0)\n",
            "Requirement already satisfied: qiskit>=0.44 in /usr/local/lib/python3.11/dist-packages (from qiskit-algorithms) (1.4.2)\n",
            "Requirement already satisfied: scipy>=1.4 in /usr/local/lib/python3.11/dist-packages (from qiskit-algorithms) (1.15.3)\n",
            "Requirement already satisfied: numpy>=1.17 in /usr/local/lib/python3.11/dist-packages (from qiskit-algorithms) (2.0.2)\n",
            "Requirement already satisfied: rustworkx>=0.15.0 in /usr/local/lib/python3.11/dist-packages (from qiskit>=0.44->qiskit-algorithms) (0.16.0)\n",
            "Requirement already satisfied: sympy>=1.3 in /usr/local/lib/python3.11/dist-packages (from qiskit>=0.44->qiskit-algorithms) (1.13.1)\n",
            "Requirement already satisfied: dill>=0.3 in /usr/local/lib/python3.11/dist-packages (from qiskit>=0.44->qiskit-algorithms) (0.3.7)\n",
            "Requirement already satisfied: python-dateutil>=2.8.0 in /usr/local/lib/python3.11/dist-packages (from qiskit>=0.44->qiskit-algorithms) (2.9.0.post0)\n",
            "Requirement already satisfied: stevedore>=3.0.0 in /usr/local/lib/python3.11/dist-packages (from qiskit>=0.44->qiskit-algorithms) (5.4.1)\n",
            "Requirement already satisfied: typing-extensions in /usr/local/lib/python3.11/dist-packages (from qiskit>=0.44->qiskit-algorithms) (4.14.0)\n",
            "Requirement already satisfied: symengine<0.14,>=0.11 in /usr/local/lib/python3.11/dist-packages (from qiskit>=0.44->qiskit-algorithms) (0.13.0)\n",
            "Requirement already satisfied: six>=1.5 in /usr/local/lib/python3.11/dist-packages (from python-dateutil>=2.8.0->qiskit>=0.44->qiskit-algorithms) (1.17.0)\n",
            "Requirement already satisfied: pbr>=2.0.0 in /usr/local/lib/python3.11/dist-packages (from stevedore>=3.0.0->qiskit>=0.44->qiskit-algorithms) (6.1.1)\n",
            "Requirement already satisfied: mpmath<1.4,>=1.1.0 in /usr/local/lib/python3.11/dist-packages (from sympy>=1.3->qiskit>=0.44->qiskit-algorithms) (1.3.0)\n",
            "Requirement already satisfied: setuptools in /usr/local/lib/python3.11/dist-packages (from pbr>=2.0.0->stevedore>=3.0.0->qiskit>=0.44->qiskit-algorithms) (75.2.0)\n",
            "Requirement already satisfied: qiskit-ibm-runtime in /usr/local/lib/python3.11/dist-packages (0.40.1)\n",
            "Requirement already satisfied: requests>=2.19 in /usr/local/lib/python3.11/dist-packages (from qiskit-ibm-runtime) (2.32.4)\n",
            "Requirement already satisfied: requests-ntlm>=1.1.0 in /usr/local/lib/python3.11/dist-packages (from qiskit-ibm-runtime) (1.3.0)\n",
            "Requirement already satisfied: numpy>=1.13 in /usr/local/lib/python3.11/dist-packages (from qiskit-ibm-runtime) (2.0.2)\n",
            "Requirement already satisfied: urllib3>=1.21.1 in /usr/local/lib/python3.11/dist-packages (from qiskit-ibm-runtime) (2.4.0)\n",
            "Requirement already satisfied: python-dateutil>=2.8.0 in /usr/local/lib/python3.11/dist-packages (from qiskit-ibm-runtime) (2.9.0.post0)\n",
            "Requirement already satisfied: ibm-platform-services>=0.22.6 in /usr/local/lib/python3.11/dist-packages (from qiskit-ibm-runtime) (0.66.2)\n",
            "Requirement already satisfied: pydantic>=2.5.0 in /usr/local/lib/python3.11/dist-packages (from qiskit-ibm-runtime) (2.11.5)\n",
            "Requirement already satisfied: qiskit>=1.4.1 in /usr/local/lib/python3.11/dist-packages (from qiskit-ibm-runtime) (1.4.2)\n",
            "Requirement already satisfied: packaging in /usr/local/lib/python3.11/dist-packages (from qiskit-ibm-runtime) (24.2)\n",
            "Requirement already satisfied: ibm_cloud_sdk_core<4.0.0,>=3.24.2 in /usr/local/lib/python3.11/dist-packages (from ibm-platform-services>=0.22.6->qiskit-ibm-runtime) (3.24.2)\n",
            "Requirement already satisfied: annotated-types>=0.6.0 in /usr/local/lib/python3.11/dist-packages (from pydantic>=2.5.0->qiskit-ibm-runtime) (0.7.0)\n",
            "Requirement already satisfied: pydantic-core==2.33.2 in /usr/local/lib/python3.11/dist-packages (from pydantic>=2.5.0->qiskit-ibm-runtime) (2.33.2)\n",
            "Requirement already satisfied: typing-extensions>=4.12.2 in /usr/local/lib/python3.11/dist-packages (from pydantic>=2.5.0->qiskit-ibm-runtime) (4.14.0)\n",
            "Requirement already satisfied: typing-inspection>=0.4.0 in /usr/local/lib/python3.11/dist-packages (from pydantic>=2.5.0->qiskit-ibm-runtime) (0.4.1)\n",
            "Requirement already satisfied: six>=1.5 in /usr/local/lib/python3.11/dist-packages (from python-dateutil>=2.8.0->qiskit-ibm-runtime) (1.17.0)\n",
            "Requirement already satisfied: rustworkx>=0.15.0 in /usr/local/lib/python3.11/dist-packages (from qiskit>=1.4.1->qiskit-ibm-runtime) (0.16.0)\n",
            "Requirement already satisfied: scipy>=1.5 in /usr/local/lib/python3.11/dist-packages (from qiskit>=1.4.1->qiskit-ibm-runtime) (1.15.3)\n",
            "Requirement already satisfied: sympy>=1.3 in /usr/local/lib/python3.11/dist-packages (from qiskit>=1.4.1->qiskit-ibm-runtime) (1.13.1)\n",
            "Requirement already satisfied: dill>=0.3 in /usr/local/lib/python3.11/dist-packages (from qiskit>=1.4.1->qiskit-ibm-runtime) (0.3.7)\n",
            "Requirement already satisfied: stevedore>=3.0.0 in /usr/local/lib/python3.11/dist-packages (from qiskit>=1.4.1->qiskit-ibm-runtime) (5.4.1)\n",
            "Requirement already satisfied: symengine<0.14,>=0.11 in /usr/local/lib/python3.11/dist-packages (from qiskit>=1.4.1->qiskit-ibm-runtime) (0.13.0)\n",
            "Requirement already satisfied: charset_normalizer<4,>=2 in /usr/local/lib/python3.11/dist-packages (from requests>=2.19->qiskit-ibm-runtime) (3.4.2)\n",
            "Requirement already satisfied: idna<4,>=2.5 in /usr/local/lib/python3.11/dist-packages (from requests>=2.19->qiskit-ibm-runtime) (3.10)\n",
            "Requirement already satisfied: certifi>=2017.4.17 in /usr/local/lib/python3.11/dist-packages (from requests>=2.19->qiskit-ibm-runtime) (2025.4.26)\n",
            "Requirement already satisfied: cryptography>=1.3 in /usr/local/lib/python3.11/dist-packages (from requests-ntlm>=1.1.0->qiskit-ibm-runtime) (43.0.3)\n",
            "Requirement already satisfied: pyspnego>=0.4.0 in /usr/local/lib/python3.11/dist-packages (from requests-ntlm>=1.1.0->qiskit-ibm-runtime) (0.11.2)\n",
            "Requirement already satisfied: cffi>=1.12 in /usr/local/lib/python3.11/dist-packages (from cryptography>=1.3->requests-ntlm>=1.1.0->qiskit-ibm-runtime) (1.17.1)\n",
            "Requirement already satisfied: PyJWT<3.0.0,>=2.10.1 in /usr/local/lib/python3.11/dist-packages (from ibm_cloud_sdk_core<4.0.0,>=3.24.2->ibm-platform-services>=0.22.6->qiskit-ibm-runtime) (2.10.1)\n",
            "Requirement already satisfied: pbr>=2.0.0 in /usr/local/lib/python3.11/dist-packages (from stevedore>=3.0.0->qiskit>=1.4.1->qiskit-ibm-runtime) (6.1.1)\n",
            "Requirement already satisfied: mpmath<1.4,>=1.1.0 in /usr/local/lib/python3.11/dist-packages (from sympy>=1.3->qiskit>=1.4.1->qiskit-ibm-runtime) (1.3.0)\n",
            "Requirement already satisfied: pycparser in /usr/local/lib/python3.11/dist-packages (from cffi>=1.12->cryptography>=1.3->requests-ntlm>=1.1.0->qiskit-ibm-runtime) (2.22)\n",
            "Requirement already satisfied: setuptools in /usr/local/lib/python3.11/dist-packages (from pbr>=2.0.0->stevedore>=3.0.0->qiskit>=1.4.1->qiskit-ibm-runtime) (75.2.0)\n"
          ]
        }
      ],
      "source": [
        "!pip install qiskit-machine-learning qiskit-ibm-runtime\n",
        "!pip install scikit-learn matplotlib numpy pandas\n",
        "!pip install qiskit-aer\n",
        "!pip install qiskit-algorithms\n",
        "!pip install qiskit>=1.0\n",
        "!pip install qiskit-ibm-runtime"
      ]
    },
    {
      "cell_type": "code",
      "execution_count": null,
      "metadata": {
        "colab": {
          "base_uri": "https://localhost:8080/"
        },
        "id": "as0x4C32ImDR",
        "outputId": "f35be730-22f9-4a09-d8e9-967f7edddc63"
      },
      "outputs": [
        {
          "output_type": "stream",
          "name": "stdout",
          "text": [
            "qiskit                                1.4.2\n",
            "qiskit-aer                            0.16.3\n",
            "qiskit-algorithms                     0.3.0\n",
            "qiskit-ibm-runtime                    0.40.1\n",
            "qiskit-machine-learning               0.8.2\n"
          ]
        }
      ],
      "source": [
        "!pip list | grep qiskit\n",
        "# Should show:\n",
        "# qiskit                      1.x.x\n",
        "# qiskit-machine-learning      0.8.x\n",
        "# qiskit-ibm-runtime           0.x.x\n",
        "\n"
      ]
    },
    {
      "cell_type": "code",
      "execution_count": null,
      "metadata": {
        "id": "s0IisiyiJV2v"
      },
      "outputs": [],
      "source": [
        "# Add this at the top of your code:\n",
        "import warnings\n",
        "warnings.filterwarnings('ignore', category=DeprecationWarning)\n"
      ]
    },
    {
      "cell_type": "code",
      "execution_count": null,
      "metadata": {
        "colab": {
          "base_uri": "https://localhost:8080/"
        },
        "id": "pFhWL_eHzFOc",
        "outputId": "16e83a77-3ffa-4247-fa1b-ed93f1b249a7"
      },
      "outputs": [
        {
          "output_type": "stream",
          "name": "stdout",
          "text": [
            "Requirement already satisfied: qiskit-machine-learning in /usr/local/lib/python3.11/dist-packages (0.8.2)\n",
            "Requirement already satisfied: qiskit>=1.0 in /usr/local/lib/python3.11/dist-packages (from qiskit-machine-learning) (1.4.2)\n",
            "Requirement already satisfied: scipy>=1.4 in /usr/local/lib/python3.11/dist-packages (from qiskit-machine-learning) (1.15.3)\n",
            "Requirement already satisfied: numpy>=1.17 in /usr/local/lib/python3.11/dist-packages (from qiskit-machine-learning) (2.0.2)\n",
            "Requirement already satisfied: psutil>=5 in /usr/local/lib/python3.11/dist-packages (from qiskit-machine-learning) (5.9.5)\n",
            "Requirement already satisfied: scikit-learn>=1.2 in /usr/local/lib/python3.11/dist-packages (from qiskit-machine-learning) (1.6.1)\n",
            "Requirement already satisfied: setuptools>=40.1 in /usr/local/lib/python3.11/dist-packages (from qiskit-machine-learning) (75.2.0)\n",
            "Requirement already satisfied: dill>=0.3.4 in /usr/local/lib/python3.11/dist-packages (from qiskit-machine-learning) (0.3.7)\n",
            "Requirement already satisfied: rustworkx>=0.15.0 in /usr/local/lib/python3.11/dist-packages (from qiskit>=1.0->qiskit-machine-learning) (0.16.0)\n",
            "Requirement already satisfied: sympy>=1.3 in /usr/local/lib/python3.11/dist-packages (from qiskit>=1.0->qiskit-machine-learning) (1.13.1)\n",
            "Requirement already satisfied: python-dateutil>=2.8.0 in /usr/local/lib/python3.11/dist-packages (from qiskit>=1.0->qiskit-machine-learning) (2.9.0.post0)\n",
            "Requirement already satisfied: stevedore>=3.0.0 in /usr/local/lib/python3.11/dist-packages (from qiskit>=1.0->qiskit-machine-learning) (5.4.1)\n",
            "Requirement already satisfied: typing-extensions in /usr/local/lib/python3.11/dist-packages (from qiskit>=1.0->qiskit-machine-learning) (4.14.0)\n",
            "Requirement already satisfied: symengine<0.14,>=0.11 in /usr/local/lib/python3.11/dist-packages (from qiskit>=1.0->qiskit-machine-learning) (0.13.0)\n",
            "Requirement already satisfied: joblib>=1.2.0 in /usr/local/lib/python3.11/dist-packages (from scikit-learn>=1.2->qiskit-machine-learning) (1.5.1)\n",
            "Requirement already satisfied: threadpoolctl>=3.1.0 in /usr/local/lib/python3.11/dist-packages (from scikit-learn>=1.2->qiskit-machine-learning) (3.6.0)\n",
            "Requirement already satisfied: six>=1.5 in /usr/local/lib/python3.11/dist-packages (from python-dateutil>=2.8.0->qiskit>=1.0->qiskit-machine-learning) (1.17.0)\n",
            "Requirement already satisfied: pbr>=2.0.0 in /usr/local/lib/python3.11/dist-packages (from stevedore>=3.0.0->qiskit>=1.0->qiskit-machine-learning) (6.1.1)\n",
            "Requirement already satisfied: mpmath<1.4,>=1.1.0 in /usr/local/lib/python3.11/dist-packages (from sympy>=1.3->qiskit>=1.0->qiskit-machine-learning) (1.3.0)\n"
          ]
        }
      ],
      "source": [
        "!pip install --upgrade qiskit-machine-learning\n",
        "!pip install qiskit qiskit-aer qiskit-machine-learning qiskit-algorithms --quiet\n"
      ]
    },
    {
      "cell_type": "code",
      "execution_count": null,
      "metadata": {
        "id": "LUbtfy2II6G8"
      },
      "outputs": [],
      "source": [
        "import numpy as np\n",
        "from qiskit_aer import Aer\n",
        "from qiskit.primitives import StatevectorSampler\n",
        "from qiskit_algorithms.utils import algorithm_globals\n",
        "from qiskit.circuit.library import ZZFeatureMap\n",
        "from qiskit_machine_learning.kernels import FidelityQuantumKernel\n",
        "from qiskit.primitives import BackendSampler\n",
        "from qiskit_machine_learning.utils import algorithm_globals\n",
        "from qiskit_machine_learning.state_fidelities import ComputeUncompute\n",
        "from qiskit_machine_learning.algorithms import QSVC\n",
        "from sklearn.decomposition import PCA\n",
        "from sklearn.model_selection import train_test_split\n",
        "from sklearn.datasets import make_classification\n",
        "from sklearn.svm import SVC\n",
        "from qiskit import transpile\n",
        "from qiskit import QuantumCircuit"
      ]
    },
    {
      "cell_type": "code",
      "execution_count": null,
      "metadata": {
        "id": "AXuFzXNUQxP9"
      },
      "outputs": [],
      "source": [
        "# Set random seeds for reproducibility\n",
        "np.random.seed(42)\n",
        "algorithm_globals.random_seed = 42"
      ]
    },
    {
      "cell_type": "code",
      "execution_count": null,
      "metadata": {
        "colab": {
          "base_uri": "https://localhost:8080/"
        },
        "id": "oAKLndzFQ0_y",
        "outputId": "cd2d0b6c-714a-46af-ce4a-df5f726a8ca1"
      },
      "outputs": [
        {
          "output_type": "stream",
          "name": "stdout",
          "text": [
            "Data loading and preprocessing complete!\n"
          ]
        }
      ],
      "source": [
        "import pandas as pd\n",
        "from sklearn.model_selection import train_test_split\n",
        "from sklearn.decomposition import PCA\n",
        "\n",
        "# Load the dataset\n",
        "data = pd.read_csv('WsnData (1).csv')\n",
        "\n",
        "# Drop irrelevant columns\n",
        "data = data.drop(columns=[\"SensorID\", \"Timestamp\"])\n",
        "\n",
        "# Encode 'SensorType' as numeric\n",
        "data['SensorType'] = data['SensorType'].astype('category').cat.codes\n",
        "\n",
        "# Define features and target\n",
        "features = ['SensorType', 'X', 'Y', 'SensorData', 'BatteryLife', 'Temperature']\n",
        "X = data[features].values\n",
        "y = data['IsFaulty'].values\n",
        "\n",
        "# Split dataset\n",
        "X_train, X_test, y_train, y_test = train_test_split(X, y, test_size=0.3, random_state=42)\n",
        "\n",
        "# Apply PCA for dimensionality reduction (important for quantum models)\n",
        "pca = PCA(n_components=3)  # You can try 2, 3, or 4 depending on your quantum kernel constraints\n",
        "X_train_pca = pca.fit_transform(X_train)\n",
        "X_test_pca = pca.transform(X_test)\n",
        "\n",
        "print(\"Data loading and preprocessing complete!\")\n"
      ]
    },
    {
      "cell_type": "code",
      "execution_count": null,
      "metadata": {
        "colab": {
          "base_uri": "https://localhost:8080/"
        },
        "id": "-t3PVyK1ew7T",
        "outputId": "fb064b42-aa60-4ddb-94e6-b5ae6ef1d335"
      },
      "outputs": [
        {
          "output_type": "stream",
          "name": "stdout",
          "text": [
            "Balanced dataset prepared. New shape: (11052, 3)\n"
          ]
        }
      ],
      "source": [
        "from sklearn.utils import resample\n",
        "import numpy as np\n",
        "\n",
        "# Combine X and y for resampling\n",
        "train_combined = np.hstack((X_train_pca, y_train.reshape(-1, 1)))\n",
        "df_train = pd.DataFrame(train_combined, columns=['PC1', 'PC2', 'PC3', 'label'])\n",
        "\n",
        "# Separate classes\n",
        "df_majority = df_train[df_train['label'] == 0]\n",
        "df_minority = df_train[df_train['label'] == 1]\n",
        "\n",
        "# Upsample minority\n",
        "df_minority_upsampled = resample(df_minority,\n",
        "                                 replace=True,\n",
        "                                 n_samples=len(df_majority),\n",
        "                                 random_state=42)\n",
        "\n",
        "# Combine back\n",
        "df_upsampled = pd.concat([df_majority, df_minority_upsampled])\n",
        "\n",
        "# Shuffle the combined dataset (optional but recommended)\n",
        "df_upsampled = df_upsampled.sample(frac=1, random_state=42).reset_index(drop=True)\n",
        "\n",
        "# Extract balanced training features and labels\n",
        "X_train_pca_bal = df_upsampled[['PC1', 'PC2', 'PC3']].values\n",
        "y_train_bal = df_upsampled['label'].values\n",
        "\n",
        "print(\"Balanced dataset prepared. New shape:\", X_train_pca_bal.shape)\n",
        "\n"
      ]
    },
    {
      "cell_type": "code",
      "execution_count": null,
      "metadata": {
        "colab": {
          "base_uri": "https://localhost:8080/"
        },
        "id": "rHgrLEz33ZxG",
        "outputId": "666c1432-0d95-4e35-e693-5be79f662a27"
      },
      "outputs": [
        {
          "output_type": "stream",
          "name": "stdout",
          "text": [
            "Computing training kernel matrix...\n",
            "Computing test kernel matrix...\n",
            "Classification Report:\n",
            "              precision    recall  f1-score   support\n",
            "\n",
            "           0       0.75      0.55      0.63       301\n",
            "           1       0.24      0.43      0.31        99\n",
            "\n",
            "    accuracy                           0.52       400\n",
            "   macro avg       0.49      0.49      0.47       400\n",
            "weighted avg       0.62      0.52      0.55       400\n",
            "\n"
          ]
        }
      ],
      "source": [
        "# Install or upgrade if needed\n",
        "# !pip install --upgrade qiskit qiskit-aer qiskit-machine-learning\n",
        "\n",
        "import numpy as np\n",
        "import pandas as pd\n",
        "from sklearn.model_selection import train_test_split\n",
        "from sklearn.decomposition import PCA\n",
        "from sklearn.preprocessing import StandardScaler\n",
        "from sklearn.svm import SVC\n",
        "from sklearn.metrics import classification_report\n",
        "from sklearn.utils import resample\n",
        "\n",
        "from qiskit.primitives import Sampler\n",
        "from qiskit_machine_learning.kernels import FidelityQuantumKernel\n",
        "from qiskit_algorithms.state_fidelities import ComputeUncompute\n",
        "from qiskit.circuit.library import ZZFeatureMap\n",
        "from qiskit_machine_learning.utils import algorithm_globals\n",
        "\n",
        "# Set seeds\n",
        "np.random.seed(42)\n",
        "algorithm_globals.random_seed = 42\n",
        "\n",
        "# Load and preprocess dataset\n",
        "data = pd.read_csv('WsnData (1).csv')\n",
        "data = data.drop(columns=[\"SensorID\", \"Timestamp\"])\n",
        "data['SensorType'] = data['SensorType'].astype('category').cat.codes\n",
        "\n",
        "features = ['SensorType', 'X', 'Y', 'SensorData', 'BatteryLife', 'Temperature']\n",
        "X = data[features].values\n",
        "y = data['IsFaulty'].values\n",
        "\n",
        "# Standardize\n",
        "scaler = StandardScaler()\n",
        "X_scaled = scaler.fit_transform(X)\n",
        "\n",
        "# Split\n",
        "X_train, X_test, y_train, y_test = train_test_split(X_scaled, y, test_size=0.3, random_state=42)\n",
        "\n",
        "# PCA\n",
        "n_components = 3\n",
        "pca = PCA(n_components=n_components)\n",
        "X_train_pca = pca.fit_transform(X_train)\n",
        "X_test_pca = pca.transform(X_test)\n",
        "\n",
        "# Balance training data using upsampling\n",
        "train_combined = np.hstack((X_train_pca, y_train.reshape(-1, 1)))\n",
        "df_train = pd.DataFrame(train_combined, columns=['PC1', 'PC2', 'PC3', 'label'])\n",
        "df_majority = df_train[df_train['label'] == 0]\n",
        "df_minority = df_train[df_train['label'] == 1]\n",
        "\n",
        "df_minority_upsampled = resample(df_minority, replace=True, n_samples=len(df_majority), random_state=42)\n",
        "df_upsampled = pd.concat([df_majority, df_minority_upsampled]).sample(frac=1, random_state=42).reset_index(drop=True)\n",
        "\n",
        "X_train_pca_bal = df_upsampled[['PC1', 'PC2', 'PC3']].values.astype(np.float32)\n",
        "y_train_bal = df_upsampled['label'].values\n",
        "\n",
        "# Reduce sizes to save memory\n",
        "train_sample_size = 500\n",
        "test_sample_size = 400\n",
        "\n",
        "X_train_small = X_train_pca_bal[:train_sample_size]\n",
        "y_train_small = y_train_bal[:train_sample_size]\n",
        "X_test_small = X_test_pca[:test_sample_size].astype(np.float32)\n",
        "y_test_small = y_test[:test_sample_size]\n",
        "\n",
        "# Quantum kernel setup\n",
        "sampler = Sampler(options={\"seed_simulator\": 42})\n",
        "feature_map = ZZFeatureMap(feature_dimension=n_components, reps=1, entanglement='linear')\n",
        "fidelity = ComputeUncompute(sampler=sampler)\n",
        "quantum_kernel = FidelityQuantumKernel(feature_map=feature_map, fidelity=fidelity)\n",
        "\n",
        "print(\"Computing training kernel matrix...\")\n",
        "kernel_train = quantum_kernel.evaluate(X_train_small)\n",
        "\n",
        "svc = SVC(kernel='precomputed')\n",
        "svc.fit(kernel_train, y_train_small)\n",
        "\n",
        "print(\"Computing test kernel matrix...\")\n",
        "kernel_test = quantum_kernel.evaluate(X_test_small, X_train_small)\n",
        "y_pred = svc.predict(kernel_test)\n",
        "\n",
        "print(\"Classification Report:\")\n",
        "print(classification_report(y_test_small, y_pred))\n",
        "\n"
      ]
    },
    {
      "cell_type": "code",
      "execution_count": null,
      "metadata": {
        "colab": {
          "base_uri": "https://localhost:8080/"
        },
        "id": "ONYzi1hXLlEZ",
        "outputId": "20b8c9e6-0894-48a1-ffca-a1870d7951ca"
      },
      "outputs": [
        {
          "output_type": "stream",
          "name": "stdout",
          "text": [
            "Computing training kernel matrix...\n",
            "Computing test kernel matrix...\n",
            "Classification Report:\n",
            "              precision    recall  f1-score   support\n",
            "\n",
            "           0       0.79      0.41      0.54        82\n",
            "           1       0.16      0.50      0.24        18\n",
            "\n",
            "    accuracy                           0.43       100\n",
            "   macro avg       0.47      0.46      0.39       100\n",
            "weighted avg       0.68      0.43      0.49       100\n",
            "\n"
          ]
        }
      ],
      "source": [
        "# Install (if needed)\n",
        "# !pip install --upgrade qiskit qiskit-aer qiskit-machine-learning\n",
        "\n",
        "import numpy as np\n",
        "import pandas as pd\n",
        "from sklearn.model_selection import train_test_split\n",
        "from sklearn.decomposition import PCA\n",
        "from sklearn.preprocessing import StandardScaler\n",
        "from sklearn.utils import resample\n",
        "from sklearn.svm import SVC\n",
        "from sklearn.metrics import classification_report\n",
        "\n",
        "from qiskit.primitives import Sampler\n",
        "from qiskit_machine_learning.kernels import FidelityQuantumKernel\n",
        "from qiskit_algorithms.state_fidelities import ComputeUncompute\n",
        "from qiskit.circuit.library import ZZFeatureMap\n",
        "from qiskit_machine_learning.utils import algorithm_globals\n",
        "\n",
        "# Set seeds\n",
        "np.random.seed(42)\n",
        "algorithm_globals.random_seed = 42\n",
        "\n",
        "# Load and preprocess data\n",
        "data = pd.read_csv(\"WsnData (1).csv\")\n",
        "data = data.drop(columns=[\"SensorID\", \"Timestamp\"])\n",
        "data['SensorType'] = data['SensorType'].astype('category').cat.codes\n",
        "\n",
        "features = ['SensorType', 'X', 'Y', 'SensorData', 'BatteryLife', 'Temperature']\n",
        "X = data[features].values\n",
        "y = data['IsFaulty'].values\n",
        "\n",
        "# Standardize\n",
        "scaler = StandardScaler()\n",
        "X_scaled = scaler.fit_transform(X)\n",
        "\n",
        "# Stratified split\n",
        "X_train, X_test, y_train, y_test = train_test_split(\n",
        "    X_scaled, y, test_size=0.3, stratify=y, random_state=42\n",
        ")\n",
        "\n",
        "# PCA\n",
        "n_components = 3\n",
        "pca = PCA(n_components=n_components)\n",
        "X_train_pca = pca.fit_transform(X_train)\n",
        "X_test_pca = pca.transform(X_test)\n",
        "\n",
        "# Balance training data\n",
        "train_combined = np.hstack((X_train_pca, y_train.reshape(-1, 1)))\n",
        "df_train = pd.DataFrame(train_combined, columns=['PC1', 'PC2', 'PC3', 'label'])\n",
        "\n",
        "df_majority = df_train[df_train['label'] == 0]\n",
        "df_minority = df_train[df_train['label'] == 1]\n",
        "\n",
        "df_minority_upsampled = resample(\n",
        "    df_minority,\n",
        "    replace=True,\n",
        "    n_samples=len(df_majority),\n",
        "    random_state=42\n",
        ")\n",
        "\n",
        "df_upsampled = pd.concat([df_majority, df_minority_upsampled])\n",
        "df_upsampled = df_upsampled.sample(frac=1, random_state=42).reset_index(drop=True)\n",
        "\n",
        "X_train_bal = df_upsampled[['PC1', 'PC2', 'PC3']].values.astype(np.float32)\n",
        "y_train_bal = df_upsampled['label'].values\n",
        "\n",
        "# Reduce sample size to avoid RAM crash\n",
        "X_train_bal = X_train_bal[:300]\n",
        "y_train_bal = y_train_bal[:300]\n",
        "X_test_small = X_test_pca[:100].astype(np.float32)\n",
        "y_test_small = y_test[:100]\n",
        "\n",
        "# Quantum kernel setup with ZZFeatureMap\n",
        "sampler = Sampler(options={\"seed_simulator\": 42})\n",
        "feature_map = ZZFeatureMap(feature_dimension=n_components, reps=1, entanglement='linear')\n",
        "fidelity = ComputeUncompute(sampler=sampler)\n",
        "quantum_kernel = FidelityQuantumKernel(feature_map=feature_map, fidelity=fidelity)\n",
        "\n",
        "print(\"Computing training kernel matrix...\")\n",
        "kernel_train = quantum_kernel.evaluate(X_train_bal)\n",
        "\n",
        "# Train SVM\n",
        "svc = SVC(kernel='precomputed')\n",
        "svc.fit(kernel_train, y_train_bal)\n",
        "\n",
        "print(\"Computing test kernel matrix...\")\n",
        "kernel_test = quantum_kernel.evaluate(X_test_small, X_train_bal)\n",
        "y_pred = svc.predict(kernel_test)\n",
        "\n",
        "# Results\n",
        "print(\"Classification Report:\")\n",
        "print(classification_report(y_test_small, y_pred))\n"
      ]
    },
    {
      "cell_type": "code",
      "execution_count": null,
      "metadata": {
        "colab": {
          "base_uri": "https://localhost:8080/"
        },
        "id": "ey2PptfkTF71",
        "outputId": "a075a9e1-8990-4105-8947-b1660e6895d2"
      },
      "outputs": [
        {
          "output_type": "stream",
          "name": "stdout",
          "text": [
            "Testing Accuracy: 0.8000\n"
          ]
        }
      ],
      "source": [
        "# Step 2: Function to Run QSVM for Given Hyperparameters\n",
        "# This function applies PCA to reduce the data dimension and builds a quantum feature\n",
        "# map using ZZFeatureMap. It then creates a quantum kernel and runs the QSVM to obtain\n",
        "# the testing accuracy.\n",
        "\n",
        "\n",
        "# Set random seed for reproducibility\n",
        "algorithm_globals.random_seed = 42\n",
        "\n",
        "# Initialize backend (QASM simulator)\n",
        "backend = Aer.get_backend('qasm_simulator')\n",
        "\n",
        "# Initialize BackendSampler for fidelity computation\n",
        "sampler = BackendSampler(backend=backend, options={\"shots\": 1024})\n",
        "\n",
        "# Initialize fidelity computation using ComputeUncompute with the sampler\n",
        "fidelity = ComputeUncompute(sampler=sampler)\n",
        "\n",
        "# Define a quantum feature map\n",
        "feature_map = ZZFeatureMap(feature_dimension=4, reps=2, entanglement=\"linear\")\n",
        "\n",
        "# Initialize FidelityQuantumKernel with feature map and fidelity computation\n",
        "quantum_kernel = FidelityQuantumKernel(fidelity=fidelity, feature_map=feature_map)\n",
        "\n",
        "# Generate synthetic data for testing\n",
        "X, y = make_classification(n_samples=100, n_features=4, random_state=42)\n",
        "X_train, X_test, y_train, y_test = train_test_split(X, y, test_size=0.3, random_state=42)\n",
        "\n",
        "# Perform PCA to reduce dimensionality (if needed)\n",
        "pca = PCA(n_components=4)\n",
        "X_train_pca = pca.fit_transform(X_train)\n",
        "X_test_pca = pca.transform(X_test)\n",
        "\n",
        "# Train a classical SVM using the quantum kernel matrix\n",
        "svc = SVC(kernel=quantum_kernel.evaluate)\n",
        "svc.fit(X_train_pca, y_train)\n",
        "accuracy = svc.score(X_test_pca, y_test)\n",
        "\n",
        "print(f\"Testing Accuracy: {accuracy:.4f}\")"
      ]
    },
    {
      "cell_type": "code",
      "execution_count": null,
      "metadata": {
        "colab": {
          "base_uri": "https://localhost:8080/"
        },
        "id": "dPPllEETN3Ap",
        "outputId": "c04db93e-062d-47d6-9f85-29d3c32405d6"
      },
      "outputs": [
        {
          "output_type": "stream",
          "name": "stdout",
          "text": [
            "Starting grid search for hyperparameter optimization...\n",
            "\n",
            "PCA Components: 2, Reps: 1, Accuracy: 0.7600\n",
            "PCA Components: 2, Reps: 2, Accuracy: 0.7600\n",
            "PCA Components: 2, Reps: 3, Accuracy: 0.7600\n",
            "PCA Components: 3, Reps: 1, Accuracy: 0.7600\n",
            "PCA Components: 3, Reps: 2, Accuracy: 0.7600\n",
            "PCA Components: 3, Reps: 3, Accuracy: 0.7600\n",
            "PCA Components: 4, Reps: 1, Accuracy: 0.7600\n",
            "PCA Components: 4, Reps: 2, Accuracy: 0.7600\n",
            "PCA Components: 4, Reps: 3, Accuracy: 0.7600\n",
            "\n",
            "Best Hyperparameters:\n",
            "{'pca_components': 2, 'reps': 1}\n",
            "Best QSVM Testing Accuracy: 0.7600\n",
            "Accuracy:  0.7600\n",
            "Precision: 0.0000\n",
            "Recall:    0.0000\n",
            "F1-score:  0.0000\n"
          ]
        },
        {
          "output_type": "stream",
          "name": "stderr",
          "text": [
            "/usr/local/lib/python3.11/dist-packages/sklearn/metrics/_classification.py:1565: UndefinedMetricWarning: Precision is ill-defined and being set to 0.0 due to no predicted samples. Use `zero_division` parameter to control this behavior.\n",
            "  _warn_prf(average, modifier, f\"{metric.capitalize()} is\", len(result))\n"
          ]
        }
      ],
      "source": [
        "import numpy as np\n",
        "import pandas as pd\n",
        "from sklearn.model_selection import train_test_split\n",
        "from sklearn.decomposition import PCA\n",
        "from sklearn.preprocessing import StandardScaler\n",
        "from qiskit_aer import Aer\n",
        "from qiskit.primitives import Sampler\n",
        "from qiskit_machine_learning.kernels import FidelityQuantumKernel\n",
        "from qiskit_algorithms.state_fidelities import ComputeUncompute\n",
        "from qiskit.circuit.library import ZZFeatureMap\n",
        "from qiskit_machine_learning.utils import algorithm_globals\n",
        "from sklearn.svm import SVC\n",
        "from sklearn.metrics import accuracy_score, precision_score, recall_score, f1_score\n",
        "\n",
        "np.random.seed(42)\n",
        "algorithm_globals.random_seed = 42\n",
        "\n",
        "# Load and preprocess dataset\n",
        "data = pd.read_csv('WsnData (1).csv')\n",
        "data = data.drop(columns=[\"SensorID\", \"Timestamp\"])\n",
        "data['SensorType'] = data['SensorType'].astype('category').cat.codes\n",
        "\n",
        "features = ['SensorType', 'X', 'Y', 'SensorData', 'BatteryLife', 'Temperature']\n",
        "X = data[features].values\n",
        "y = data['IsFaulty'].values\n",
        "\n",
        "scaler = StandardScaler()\n",
        "X_scaled = scaler.fit_transform(X)\n",
        "\n",
        "X_train, X_test, y_train, y_test = train_test_split(X_scaled, y, test_size=0.3, random_state=42)\n",
        "\n",
        "# Reduce dataset size for memory reasons\n",
        "sample_size = 300\n",
        "X_train = X_train[:sample_size]\n",
        "y_train = y_train[:sample_size]\n",
        "X_test = X_test[:sample_size // 3]\n",
        "y_test = y_test[:sample_size // 3]\n",
        "\n",
        "# Initialize the sampler and fidelity function once (outside loop)\n",
        "sampler = Sampler(options={\"seed_simulator\": 42})\n",
        "fidelity = ComputeUncompute(sampler=sampler)\n",
        "\n",
        "def compute_kernel_matrix(kernel, X1, X2):\n",
        "    n1, n2 = X1.shape[0], X2.shape[0]\n",
        "    kernel_matrix = np.zeros((n1, n2))\n",
        "    for i in range(n1):\n",
        "        kernel_matrix[i, :] = kernel.evaluate(np.array([X1[i]]), X2).flatten()\n",
        "    return kernel_matrix\n",
        "\n",
        "# Hyperparameter options\n",
        "pca_options = [2, 3, 4]\n",
        "reps_options = [1, 2, 3]\n",
        "best_score = 0\n",
        "best_params = {}\n",
        "\n",
        "print(\"Starting grid search for hyperparameter optimization...\\n\")\n",
        "\n",
        "for pca_components in pca_options:\n",
        "    for reps in reps_options:\n",
        "        # Apply PCA\n",
        "        pca = PCA(n_components=pca_components)\n",
        "        X_train_pca = pca.fit_transform(X_train)\n",
        "        X_test_pca = pca.transform(X_test)\n",
        "\n",
        "        # Setup feature map and kernel\n",
        "        feature_map = ZZFeatureMap(\n",
        "            feature_dimension=pca_components,\n",
        "            reps=reps,\n",
        "            entanglement=\"linear\"\n",
        "        )\n",
        "        quantum_kernel = FidelityQuantumKernel(\n",
        "            fidelity=fidelity,\n",
        "            feature_map=feature_map\n",
        "        )\n",
        "\n",
        "        # Compute kernel matrices (memory-friendly)\n",
        "        kernel_train = compute_kernel_matrix(quantum_kernel, X_train_pca, X_train_pca)\n",
        "        kernel_test = compute_kernel_matrix(quantum_kernel, X_test_pca, X_train_pca)\n",
        "\n",
        "        # Train SVM on precomputed kernel\n",
        "        svc = SVC(kernel='precomputed')\n",
        "        svc.fit(kernel_train, y_train)\n",
        "\n",
        "        # Predict and evaluate accuracy\n",
        "        accuracy = svc.score(kernel_test, y_test)\n",
        "        print(f\"PCA Components: {pca_components}, Reps: {reps}, Accuracy: {accuracy:.4f}\")\n",
        "\n",
        "        if accuracy > best_score:\n",
        "            best_score = accuracy\n",
        "            best_params = {'pca_components': pca_components, 'reps': reps}\n",
        "            best_model = svc\n",
        "            best_kernel_test = kernel_test\n",
        "            best_y_test = y_test\n",
        "\n",
        "print(\"\\nBest Hyperparameters:\")\n",
        "print(best_params)\n",
        "print(f\"Best QSVM Testing Accuracy: {best_score:.4f}\")\n",
        "\n",
        "# Calculate and print additional metrics on the best model\n",
        "y_pred = best_model.predict(best_kernel_test)\n",
        "\n",
        "precision = precision_score(best_y_test, y_pred)\n",
        "recall = recall_score(best_y_test, y_pred)\n",
        "f1 = f1_score(best_y_test, y_pred)\n",
        "\n",
        "print(f\"Accuracy:  {best_score:.4f}\")\n",
        "print(f\"Precision: {precision:.4f}\")\n",
        "print(f\"Recall:    {recall:.4f}\")\n",
        "print(f\"F1-score:  {f1:.4f}\")"
      ]
    },
    {
      "cell_type": "code",
      "execution_count": null,
      "metadata": {
        "colab": {
          "base_uri": "https://localhost:8080/"
        },
        "id": "FeKLG-_zSe9n",
        "outputId": "05e206dd-9b90-411f-c46d-32b858d26527"
      },
      "outputs": [
        {
          "output_type": "stream",
          "name": "stdout",
          "text": [
            "QSVM Accuracy: 0.7600\n",
            "Classical SVM Accuracy: 0.8600\n"
          ]
        }
      ],
      "source": [
        "from sklearn.svm import SVC\n",
        "from sklearn.metrics import accuracy_score\n",
        "from scipy.stats import ttest_rel\n",
        "import numpy as np\n",
        "\n",
        "# Assuming 'svc' and 'quantum_kernel' are the trained QSVM model and kernel from the grid search\n",
        "# and 'X_train_pca', 'X_test_pca', 'y_train', 'y_test' are the PCA-transformed data subsets used for training and testing\n",
        "\n",
        "# Re-define the kernel computation function if needed (or ensure it's available)\n",
        "def compute_kernel_matrix(kernel, X1, X2):\n",
        "    n1, n2 = X1.shape[0], X2.shape[0]\n",
        "    kernel_matrix = np.zeros((n1, n2))\n",
        "    for i in range(n1):\n",
        "        kernel_matrix[i, :] = kernel.evaluate(np.array([X1[i]]), X2).flatten()\n",
        "    return kernel_matrix\n",
        "\n",
        "# Compute the kernel matrix for QSVM prediction\n",
        "# This should be X_test_pca vs X_train_pca because the model was trained on the train/train kernel\n",
        "kernel_test_qsvm = compute_kernel_matrix(quantum_kernel, X_test_pca, X_train_pca)\n",
        "\n",
        "# QSVM predictions\n",
        "y_pred_qsvm = svc.predict(kernel_test_qsvm)\n",
        "\n",
        "# Classical SVM for comparison\n",
        "# Ensure the classical SVM is trained on the same PCA data subset as the QSVM's training data\n",
        "svc_classical = SVC(kernel='rbf', random_state=42)\n",
        "svc_classical.fit(X_train_pca, y_train)\n",
        "y_pred_classical = svc_classical.predict(X_test_pca) # Classical SVM predicts on raw PCA features\n",
        "\n",
        "# Compute accuracy for both\n",
        "acc_qsvm = accuracy_score(y_test, y_pred_qsvm)\n",
        "acc_classical = accuracy_score(y_test, y_pred_classical)\n",
        "\n",
        "# If you use cross-validation or have multiple runs, collect accuracies in lists:\n",
        "# accs_qsvm = [...]\n",
        "# accs_classical = [...]\n",
        "\n",
        "# For demonstration, let's say you have lists of accuracies from cross-validation:\n",
        "# t_stat, p_value = ttest_rel(accs_qsvm, accs_classical)\n",
        "\n",
        "# If you just have one test set, you can still report the difference, but for true statistical testing, use cross-validation.\n",
        "\n",
        "print(f\"QSVM Accuracy: {acc_qsvm:.4f}\")\n",
        "print(f\"Classical SVM Accuracy: {acc_classical:.4f}\")\n",
        "#print(f\"Paired t-test p-value: {p_value:.4f}\")"
      ]
    },
    {
      "cell_type": "code",
      "execution_count": null,
      "metadata": {
        "colab": {
          "base_uri": "https://localhost:8080/",
          "height": 997
        },
        "id": "xIKE5ZJEaIJH",
        "outputId": "e1ab111a-5295-43e4-97c7-5cfa5389aea1"
      },
      "outputs": [
        {
          "output_type": "display_data",
          "data": {
            "text/plain": [
              "<Figure size 1000x500 with 1 Axes>"
            ],
            "image/png": "[encoded data removed]"
          },
          "metadata": {}
        },
        {
          "output_type": "display_data",
          "data": {
            "text/plain": [
              "<Figure size 1000x500 with 1 Axes>"
            ],
            "image/png": "[encoded data removed]"
          },
          "metadata": {}
        }
      ],
      "source": [
        "import pandas as pd\n",
        "import matplotlib.pyplot as plt\n",
        "\n",
        "# Load your full dataset\n",
        "data = pd.read_csv(\"WsnData (1).csv\")\n",
        "\n",
        "# 1. Histogram of ALL 'SensorData' values\n",
        "plt.figure(figsize=(10, 5))\n",
        "plt.hist(data['SensorData'], bins=30, color='skyblue', edgecolor='black')\n",
        "plt.xlabel('Sensor Data Values')\n",
        "plt.ylabel('Frequency')\n",
        "plt.title('Histogram of All Sensor Data Values')\n",
        "plt.grid(True, linestyle='--', alpha=0.5)\n",
        "plt.tight_layout()\n",
        "plt.show()\n",
        "\n",
        "# 2. Histogram of RANDOM 100 'SensorData' values\n",
        "# Ensure same features order used in quantum training\n",
        "X_subset = data.sample(n=100, random_state=42)[['SensorType', 'X', 'Y', 'SensorData', 'BatteryLife', 'Temperature']].values\n",
        "sensor_data_subset = X_subset[:, 3]  # SensorData is at index 3\n",
        "\n",
        "plt.figure(figsize=(10, 5))\n",
        "plt.hist(sensor_data_subset, bins=30, color='lightgreen', edgecolor='black')\n",
        "plt.xlabel('Sensor Data Values (Subset of 100 samples)')\n",
        "plt.ylabel('Frequency')\n",
        "plt.title('Histogram of Sensor Data Values (Random 100 Samples)')\n",
        "plt.grid(True, linestyle='--', alpha=0.5)\n",
        "plt.tight_layout()\n",
        "plt.show()\n"
      ]
    },
    {
      "cell_type": "code",
      "execution_count": null,
      "metadata": {
        "colab": {
          "base_uri": "https://localhost:8080/",
          "height": 607
        },
        "id": "ZEHgZ1uVar49",
        "outputId": "eed68ae8-d9da-43e9-b586-e5e226974f55"
      },
      "outputs": [
        {
          "output_type": "display_data",
          "data": {
            "text/plain": [
              "<Figure size 800x600 with 1 Axes>"
            ],
            "image/png": "[encoded data removed]"
          },
          "metadata": {}
        }
      ],
      "source": [
        "from sklearn.metrics import confusion_matrix, ConfusionMatrixDisplay\n",
        "import matplotlib.pyplot as plt\n",
        "\n",
        "# Recompute the precomputed kernel matrix for prediction\n",
        "kernel_test = quantum_kernel.evaluate(X_test_pca, X_train_pca)  # test vs. train\n",
        "\n",
        "# Make predictions\n",
        "y_pred_qsvm = svc.predict(kernel_test)\n",
        "\n",
        "# Generate the confusion matrix\n",
        "cm = confusion_matrix(y_test, y_pred_qsvm, labels=[0, 1])  # 0 = Normal, 1 = Faulty\n",
        "\n",
        "# Create and customize the display\n",
        "disp = ConfusionMatrixDisplay(confusion_matrix=cm, display_labels=[\"Normal\", \"Faulty\"])\n",
        "fig, ax = plt.subplots(figsize=(8, 6))\n",
        "disp.plot(ax=ax, cmap=plt.cm.Blues, colorbar=False)\n",
        "plt.title(\"Confusion Matrix - Quantum SVM\", fontsize=14, pad=20)\n",
        "plt.xlabel(\"Predicted Label\", fontsize=12)\n",
        "plt.ylabel(\"True Label\", fontsize=12)\n",
        "\n",
        "# Annotate values manually for clarity\n",
        "for i in range(2):\n",
        "    for j in range(2):\n",
        "        ax.text(j, i, cm[i, j], ha=\"center\", va=\"center\",\n",
        "                color=\"white\" if cm[i, j] > cm.max() / 2 else \"black\",\n",
        "                fontsize=14, fontweight='bold')\n",
        "\n",
        "plt.tight_layout()\n",
        "plt.show()\n"
      ]
    },
    {
      "cell_type": "code",
      "execution_count": null,
      "metadata": {
        "colab": {
          "base_uri": "https://localhost:8080/",
          "height": 777
        },
        "id": "eO1ltiwvbXA1",
        "outputId": "6ac43670-918e-4622-a1fb-e2671975666a"
      },
      "outputs": [
        {
          "output_type": "stream",
          "name": "stdout",
          "text": [
            "Prediction Matrix (first 10 rows):\n",
            "   True Label  Predicted Label\n",
            "0           0                0\n",
            "1           0                0\n",
            "2           0                0\n",
            "3           1                0\n",
            "4           0                0\n",
            "5           0                0\n",
            "6           0                0\n",
            "7           1                0\n",
            "8           0                0\n",
            "9           0                0\n"
          ]
        },
        {
          "output_type": "display_data",
          "data": {
            "text/plain": [
              "<Figure size 800x600 with 1 Axes>"
            ],
            "image/png": "[encoded data removed]"
          },
          "metadata": {}
        }
      ],
      "source": [
        "from sklearn.metrics import confusion_matrix, ConfusionMatrixDisplay\n",
        "import pandas as pd\n",
        "import matplotlib.pyplot as plt\n",
        "\n",
        "# Step 1: Evaluate the test kernel matrix using the trained FidelityQuantumKernel\n",
        "kernel_test = quantum_kernel.evaluate(X_test_pca, X_train_pca)\n",
        "\n",
        "# Step 2: Make predictions using the trained QSVM model\n",
        "y_pred_qsvm = svc.predict(kernel_test)\n",
        "\n",
        "# Step 3: Create a DataFrame to compare true and predicted labels\n",
        "prediction_matrix = pd.DataFrame({\n",
        "    'True Label': y_test,\n",
        "    'Predicted Label': y_pred_qsvm\n",
        "})\n",
        "\n",
        "# Step 4: Display the prediction matrix\n",
        "print(\"Prediction Matrix (first 10 rows):\")\n",
        "print(prediction_matrix.head(10))\n",
        "\n",
        "# Step 5: Generate and display the confusion matrix\n",
        "cm = confusion_matrix(y_test, y_pred_qsvm, labels=[0, 1])\n",
        "disp = ConfusionMatrixDisplay(confusion_matrix=cm, display_labels=[\"Normal\", \"Faulty\"])\n",
        "\n",
        "fig, ax = plt.subplots(figsize=(8,6))\n",
        "disp.plot(ax=ax, cmap=plt.cm.Blues, colorbar=False)\n",
        "plt.title(\"QSVM Confusion Matrix\", fontsize=14)\n",
        "plt.xlabel(\"Predicted Label\", fontsize=12)\n",
        "plt.ylabel(\"True Label\", fontsize=12)\n",
        "\n",
        "# Annotate matrix values\n",
        "for i in range(2):\n",
        "    for j in range(2):\n",
        "        ax.text(j, i, cm[i, j], ha=\"center\", va=\"center\",\n",
        "                color=\"white\" if cm[i,j] > cm.max()/2 else \"black\")\n",
        "\n",
        "plt.show()\n",
        "\n",
        "# Optional: Save the predictions to CSV\n",
        "# prediction_matrix.to_csv(\"qsvm_predictions.csv\", index=False)\n"
      ]
    },
    {
      "cell_type": "code",
      "execution_count": null,
      "metadata": {
        "colab": {
          "base_uri": "https://localhost:8080/",
          "height": 147
        },
        "id": "nxEBZbfxbtKP",
        "outputId": "1193a14d-2aa3-4311-a40b-a9468807daa7"
      },
      "outputs": [
        {
          "output_type": "execute_result",
          "data": {
            "text/plain": [
              "0    232\n",
              "1     68\n",
              "Name: count, dtype: int64"
            ],
            "text/html": [
              "<div>\n",
              "<style scoped>\n",
              "    .dataframe tbody tr th:only-of-type {\n",
              "        vertical-align: middle;\n",
              "    }\n",
              "\n",
              "    .dataframe tbody tr th {\n",
              "        vertical-align: top;\n",
              "    }\n",
              "\n",
              "    .dataframe thead th {\n",
              "        text-align: right;\n",
              "    }\n",
              "</style>\n",
              "<table border=\"1\" class=\"dataframe\">\n",
              "  <thead>\n",
              "    <tr style=\"text-align: right;\">\n",
              "      <th></th>\n",
              "      <th>count</th>\n",
              "    </tr>\n",
              "  </thead>\n",
              "  <tbody>\n",
              "    <tr>\n",
              "      <th>0</th>\n",
              "      <td>232</td>\n",
              "    </tr>\n",
              "    <tr>\n",
              "      <th>1</th>\n",
              "      <td>68</td>\n",
              "    </tr>\n",
              "  </tbody>\n",
              "</table>\n",
              "</div><br><label><b>dtype:</b> int64</label>"
            ]
          },
          "metadata": {},
          "execution_count": 22
        }
      ],
      "source": [
        "pd.Series(y_train).value_counts()"
      ]
    },
    {
      "cell_type": "code",
      "execution_count": null,
      "metadata": {
        "colab": {
          "base_uri": "https://localhost:8080/",
          "height": 589
        },
        "id": "FA2ulnjBgGC8",
        "outputId": "72b99a2f-6ccf-4604-93ef-778e60825445"
      },
      "outputs": [
        {
          "output_type": "display_data",
          "data": {
            "text/plain": [
              "<Figure size 800x600 with 1 Axes>"
            ],
            "image/png": "[encoded data removed]"
          },
          "metadata": {}
        }
      ],
      "source": [
        "from sklearn.metrics import confusion_matrix, ConfusionMatrixDisplay\n",
        "import matplotlib.pyplot as plt\n",
        "\n",
        "# After training your QSVM model and making predictions\n",
        "# Recompute the precomputed kernel matrix for prediction\n",
        "kernel_test = quantum_kernel.evaluate(X_test_pca, X_train_pca)  # test vs. train\n",
        "\n",
        "y_pred = svc.predict(kernel_test)  # Use the computed kernel for prediction\n",
        "\n",
        "# Generate confusion matrix\n",
        "cm = confusion_matrix(y_test, y_pred, labels=[0, 1])  # 0=Normal, 1=Faulty\n",
        "\n",
        "# Create display with labels\n",
        "disp = ConfusionMatrixDisplay(confusion_matrix=cm, display_labels=[\"Normal\", \"Faulty\"])\n",
        "\n",
        "# Customize plot\n",
        "fig, ax = plt.subplots(figsize=(8,6))\n",
        "disp.plot(ax=ax, cmap=plt.cm.Blues, colorbar=False)\n",
        "plt.title(\"QSVM Confusion Matrix\", fontsize=14, pad=20)\n",
        "plt.xlabel(\"Predicted Label\", fontsize=12)\n",
        "plt.ylabel(\"True Label\", fontsize=12)\n",
        "\n",
        "# Add value annotations\n",
        "for i in range(2):\n",
        "    for j in range(2):\n",
        "        ax.text(j, i, cm[i, j], ha=\"center\", va=\"center\", color=\"white\" if cm[i,j] > cm.max()/2 else \"black\")\n",
        "\n",
        "plt.show()"
      ]
    },
    {
      "cell_type": "code",
      "execution_count": null,
      "metadata": {
        "colab": {
          "base_uri": "https://localhost:8080/",
          "height": 1000
        },
        "id": "wBi97xuphDeA",
        "outputId": "e17ef6b2-b45b-4d29-e4b2-007a4ff4a3fd"
      },
      "outputs": [
        {
          "output_type": "display_data",
          "data": {
            "text/plain": [
              "<Figure size 1200x1000 with 2 Axes>"
            ],
            "image/png": "[encoded data removed]"
          },
          "metadata": {}
        }
      ],
      "source": [
        "import numpy as np\n",
        "import matplotlib.pyplot as plt\n",
        "from sklearn.metrics import confusion_matrix\n",
        "\n",
        "# Assuming you already have your QSVM model predictions\n",
        "# y_test = true labels\n",
        "# y_pred = QSVM predictions\n",
        "\n",
        "# Create the confusion matrix\n",
        "cm = confusion_matrix(y_test, y_pred)\n",
        "\n",
        "# Plot the confusion matrix\n",
        "plt.figure(figsize=(12, 10))\n",
        "plt.imshow(cm, interpolation='nearest', cmap='Blues')\n",
        "plt.title('Confusion Matrix', fontsize=16)\n",
        "plt.colorbar()\n",
        "\n",
        "# Add axis labels\n",
        "tick_marks = np.arange(len(np.unique(y_test)))\n",
        "plt.xticks(tick_marks, np.unique(y_test), rotation=45)\n",
        "plt.yticks(tick_marks, np.unique(y_test))\n",
        "plt.xlabel('Predicted', fontsize=14)\n",
        "plt.ylabel('Actual', fontsize=14)\n",
        "\n",
        "# Add text annotations in cells\n",
        "thresh = cm.max() / 2\n",
        "for i in range(cm.shape[0]):\n",
        "    for j in range(cm.shape[1]):\n",
        "        plt.text(j, i, format(cm[i, j], 'd'),\n",
        "                horizontalalignment=\"center\",\n",
        "                color=\"white\" if cm[i, j] > thresh else \"black\")\n",
        "\n",
        "plt.tight_layout()\n",
        "plt.show()\n"
      ]
    },
    {
      "cell_type": "code",
      "source": [
        "import numpy as np\n",
        "import pandas as pd\n",
        "from sklearn.model_selection import train_test_split\n",
        "from sklearn.decomposition import PCA\n",
        "from sklearn.preprocessing import StandardScaler\n",
        "from sklearn.utils import resample\n",
        "from sklearn.svm import SVC\n",
        "from sklearn.metrics import classification_report\n",
        "\n",
        "from qiskit.primitives import Sampler\n",
        "from qiskit_machine_learning.kernels import FidelityQuantumKernel\n",
        "from qiskit_algorithms.state_fidelities import ComputeUncompute\n",
        "from qiskit.circuit.library import ZZFeatureMap\n",
        "from qiskit_machine_learning.utils import algorithm_globals\n",
        "\n",
        "# Set random seed for reproducibility\n",
        "np.random.seed(42)\n",
        "algorithm_globals.random_seed = 42\n",
        "\n",
        "# Load and preprocess the dataset\n",
        "data = pd.read_csv(\"WsnData (1).csv\")\n",
        "data = data.drop(columns=[\"SensorID\", \"Timestamp\"])\n",
        "data['SensorType'] = data['SensorType'].astype('category').cat.codes\n",
        "\n",
        "# Feature and target selection\n",
        "features = ['SensorType', 'X', 'Y', 'SensorData', 'BatteryLife', 'Temperature']\n",
        "X = data[features].values\n",
        "y = data['IsFaulty'].values\n",
        "\n",
        "# Standardize features\n",
        "scaler = StandardScaler()\n",
        "X_scaled = scaler.fit_transform(X)\n",
        "\n",
        "# Stratified train-test split\n",
        "X_train, X_test, y_train, y_test = train_test_split(\n",
        "    X_scaled, y, test_size=0.3, stratify=y, random_state=42\n",
        ")\n",
        "\n",
        "# Apply PCA\n",
        "n_components = 3\n",
        "pca = PCA(n_components=n_components)\n",
        "X_train_pca = pca.fit_transform(X_train)\n",
        "X_test_pca = pca.transform(X_test)\n",
        "\n",
        "# Balance the training data via upsampling\n",
        "train_combined = np.hstack((X_train_pca, y_train.reshape(-1, 1)))\n",
        "df_train = pd.DataFrame(train_combined, columns=['PC1', 'PC2', 'PC3', 'label'])\n",
        "\n",
        "df_majority = df_train[df_train['label'] == 0]\n",
        "df_minority = df_train[df_train['label'] == 1]\n",
        "\n",
        "df_minority_upsampled = resample(\n",
        "    df_minority, replace=True, n_samples=len(df_majority), random_state=42\n",
        ")\n",
        "\n",
        "df_upsampled = pd.concat([df_majority, df_minority_upsampled])\n",
        "df_upsampled = df_upsampled.sample(frac=1, random_state=42).reset_index(drop=True)\n",
        "\n",
        "X_train_bal = df_upsampled[['PC1', 'PC2', 'PC3']].values.astype(np.float32)\n",
        "y_train_bal = df_upsampled['label'].values\n",
        "\n",
        "# Use complete test set\n",
        "X_test_full = X_test_pca.astype(np.float32)\n",
        "y_test_full = y_test\n",
        "\n",
        "# Quantum kernel setup\n",
        "sampler = Sampler(options={\"seed_simulator\": 42})\n",
        "feature_map = ZZFeatureMap(feature_dimension=n_components, reps=1, entanglement='linear')\n",
        "fidelity = ComputeUncompute(sampler=sampler)\n",
        "quantum_kernel = FidelityQuantumKernel(feature_map=feature_map, fidelity=fidelity)\n",
        "\n",
        "# Compute kernel matrices\n",
        "print(\"Computing training kernel matrix...\")\n",
        "kernel_train = quantum_kernel.evaluate(X_train_bal)\n",
        "\n",
        "svc = SVC(kernel='precomputed')\n",
        "svc.fit(kernel_train, y_train_bal)\n",
        "\n",
        "print(\"Computing test kernel matrix...\")\n",
        "kernel_test = quantum_kernel.evaluate(X_test_full, X_train_bal)\n",
        "y_pred = svc.predict(kernel_test)\n",
        "\n",
        "# Final performance report\n",
        "print(\"Classification Report:\")\n",
        "print(classification_report(y_test_full, y_pred))\n"
      ],
      "metadata": {
        "colab": {
          "base_uri": "https://localhost:8080/",
          "height": 373
        },
        "id": "mGLbcCAWoodb",
        "outputId": "549a54d4-7a49-4191-97ac-5b112141ac0a"
      },
      "execution_count": null,
      "outputs": [
        {
          "output_type": "stream",
          "name": "stdout",
          "text": [
            "Computing training kernel matrix...\n"
          ]
        },
        {
          "output_type": "error",
          "ename": "KeyboardInterrupt",
          "evalue": "",
          "traceback": [
            "\u001b[0;31m---------------------------------------------------------------------------\u001b[0m",
            "\u001b[0;31mKeyboardInterrupt\u001b[0m                         Traceback (most recent call last)",
            "\u001b[0;32m<ipython-input-13-1693228452>\u001b[0m in \u001b[0;36m<cell line: 0>\u001b[0;34m()\u001b[0m\n\u001b[1;32m     72\u001b[0m \u001b[0;31m# Compute kernel matrices\u001b[0m\u001b[0;34m\u001b[0m\u001b[0;34m\u001b[0m\u001b[0m\n\u001b[1;32m     73\u001b[0m \u001b[0mprint\u001b[0m\u001b[0;34m(\u001b[0m\u001b[0;34m\"Computing training kernel matrix...\"\u001b[0m\u001b[0;34m)\u001b[0m\u001b[0;34m\u001b[0m\u001b[0;34m\u001b[0m\u001b[0m\n\u001b[0;32m---> 74\u001b[0;31m \u001b[0mkernel_train\u001b[0m \u001b[0;34m=\u001b[0m \u001b[0mquantum_kernel\u001b[0m\u001b[0;34m.\u001b[0m\u001b[0mevaluate\u001b[0m\u001b[0;34m(\u001b[0m\u001b[0mX_train_bal\u001b[0m\u001b[0;34m)\u001b[0m\u001b[0;34m\u001b[0m\u001b[0;34m\u001b[0m\u001b[0m\n\u001b[0m\u001b[1;32m     75\u001b[0m \u001b[0;34m\u001b[0m\u001b[0m\n\u001b[1;32m     76\u001b[0m \u001b[0msvc\u001b[0m \u001b[0;34m=\u001b[0m \u001b[0mSVC\u001b[0m\u001b[0;34m(\u001b[0m\u001b[0mkernel\u001b[0m\u001b[0;34m=\u001b[0m\u001b[0;34m'precomputed'\u001b[0m\u001b[0;34m)\u001b[0m\u001b[0;34m\u001b[0m\u001b[0;34m\u001b[0m\u001b[0m\n",
            "\u001b[0;32m/usr/local/lib/python3.11/dist-packages/qiskit_machine_learning/kernels/fidelity_quantum_kernel.py\u001b[0m in \u001b[0;36mevaluate\u001b[0;34m(self, x_vec, y_vec)\u001b[0m\n\u001b[1;32m    111\u001b[0m \u001b[0;34m\u001b[0m\u001b[0m\n\u001b[1;32m    112\u001b[0m         \u001b[0;32mif\u001b[0m \u001b[0mis_symmetric\u001b[0m\u001b[0;34m:\u001b[0m\u001b[0;34m\u001b[0m\u001b[0;34m\u001b[0m\u001b[0m\n\u001b[0;32m--> 113\u001b[0;31m             \u001b[0mleft_parameters\u001b[0m\u001b[0;34m,\u001b[0m \u001b[0mright_parameters\u001b[0m\u001b[0;34m,\u001b[0m \u001b[0mindices\u001b[0m \u001b[0;34m=\u001b[0m \u001b[0mself\u001b[0m\u001b[0;34m.\u001b[0m\u001b[0m_get_symmetric_parameterization\u001b[0m\u001b[0;34m(\u001b[0m\u001b[0mx_vec\u001b[0m\u001b[0;34m)\u001b[0m\u001b[0;34m\u001b[0m\u001b[0;34m\u001b[0m\u001b[0m\n\u001b[0m\u001b[1;32m    114\u001b[0m             kernel_matrix = self._get_symmetric_kernel_matrix(\n\u001b[1;32m    115\u001b[0m                 \u001b[0mkernel_shape\u001b[0m\u001b[0;34m,\u001b[0m \u001b[0mleft_parameters\u001b[0m\u001b[0;34m,\u001b[0m \u001b[0mright_parameters\u001b[0m\u001b[0;34m,\u001b[0m \u001b[0mindices\u001b[0m\u001b[0;34m\u001b[0m\u001b[0;34m\u001b[0m\u001b[0m\n",
            "\u001b[0;32m/usr/local/lib/python3.11/dist-packages/qiskit_machine_learning/kernels/fidelity_quantum_kernel.py\u001b[0m in \u001b[0;36m_get_symmetric_parameterization\u001b[0;34m(self, x_vec)\u001b[0m\n\u001b[1;32m    162\u001b[0m \u001b[0;34m\u001b[0m\u001b[0m\n\u001b[1;32m    163\u001b[0m         indices = np.asarray(\n\u001b[0;32m--> 164\u001b[0;31m             [\n\u001b[0m\u001b[1;32m    165\u001b[0m                 \u001b[0;34m(\u001b[0m\u001b[0mi\u001b[0m\u001b[0;34m,\u001b[0m \u001b[0mi\u001b[0m \u001b[0;34m+\u001b[0m \u001b[0mj\u001b[0m\u001b[0;34m)\u001b[0m\u001b[0;34m\u001b[0m\u001b[0;34m\u001b[0m\u001b[0m\n\u001b[1;32m    166\u001b[0m                 \u001b[0;32mfor\u001b[0m \u001b[0mi\u001b[0m\u001b[0;34m,\u001b[0m \u001b[0mx_i\u001b[0m \u001b[0;32min\u001b[0m \u001b[0menumerate\u001b[0m\u001b[0;34m(\u001b[0m\u001b[0mx_vec\u001b[0m\u001b[0;34m)\u001b[0m\u001b[0;34m\u001b[0m\u001b[0;34m\u001b[0m\u001b[0m\n",
            "\u001b[0;32m/usr/local/lib/python3.11/dist-packages/qiskit_machine_learning/kernels/fidelity_quantum_kernel.py\u001b[0m in \u001b[0;36m<listcomp>\u001b[0;34m(.0)\u001b[0m\n\u001b[1;32m    166\u001b[0m                 \u001b[0;32mfor\u001b[0m \u001b[0mi\u001b[0m\u001b[0;34m,\u001b[0m \u001b[0mx_i\u001b[0m \u001b[0;32min\u001b[0m \u001b[0menumerate\u001b[0m\u001b[0;34m(\u001b[0m\u001b[0mx_vec\u001b[0m\u001b[0;34m)\u001b[0m\u001b[0;34m\u001b[0m\u001b[0;34m\u001b[0m\u001b[0m\n\u001b[1;32m    167\u001b[0m                 \u001b[0;32mfor\u001b[0m \u001b[0mj\u001b[0m\u001b[0;34m,\u001b[0m \u001b[0mx_j\u001b[0m \u001b[0;32min\u001b[0m \u001b[0menumerate\u001b[0m\u001b[0;34m(\u001b[0m\u001b[0mx_vec\u001b[0m\u001b[0;34m[\u001b[0m\u001b[0mi\u001b[0m\u001b[0;34m:\u001b[0m\u001b[0;34m]\u001b[0m\u001b[0;34m)\u001b[0m\u001b[0;34m\u001b[0m\u001b[0;34m\u001b[0m\u001b[0m\n\u001b[0;32m--> 168\u001b[0;31m                 \u001b[0;32mif\u001b[0m \u001b[0;32mnot\u001b[0m \u001b[0mself\u001b[0m\u001b[0;34m.\u001b[0m\u001b[0m_is_trivial\u001b[0m\u001b[0;34m(\u001b[0m\u001b[0mi\u001b[0m\u001b[0;34m,\u001b[0m \u001b[0mi\u001b[0m \u001b[0;34m+\u001b[0m \u001b[0mj\u001b[0m\u001b[0;34m,\u001b[0m \u001b[0mx_i\u001b[0m\u001b[0;34m,\u001b[0m \u001b[0mx_j\u001b[0m\u001b[0;34m,\u001b[0m \u001b[0;32mTrue\u001b[0m\u001b[0;34m)\u001b[0m\u001b[0;34m\u001b[0m\u001b[0;34m\u001b[0m\u001b[0m\n\u001b[0m\u001b[1;32m    169\u001b[0m             ]\n\u001b[1;32m    170\u001b[0m         )\n",
            "\u001b[0;32m/usr/local/lib/python3.11/dist-packages/qiskit_machine_learning/kernels/fidelity_quantum_kernel.py\u001b[0m in \u001b[0;36m_is_trivial\u001b[0;34m(self, i, j, x_i, y_j, symmetric)\u001b[0m\n\u001b[1;32m    283\u001b[0m \u001b[0;34m\u001b[0m\u001b[0m\n\u001b[1;32m    284\u001b[0m         \u001b[0;31m# if don't evaluate any duplicates\u001b[0m\u001b[0;34m\u001b[0m\u001b[0;34m\u001b[0m\u001b[0m\n\u001b[0;32m--> 285\u001b[0;31m         \u001b[0;32mif\u001b[0m \u001b[0mnp\u001b[0m\u001b[0;34m.\u001b[0m\u001b[0marray_equal\u001b[0m\u001b[0;34m(\u001b[0m\u001b[0mx_i\u001b[0m\u001b[0;34m,\u001b[0m \u001b[0my_j\u001b[0m\u001b[0;34m)\u001b[0m \u001b[0;32mand\u001b[0m \u001b[0mself\u001b[0m\u001b[0;34m.\u001b[0m\u001b[0m_evaluate_duplicates\u001b[0m \u001b[0;34m==\u001b[0m \u001b[0;34m\"none\"\u001b[0m\u001b[0;34m:\u001b[0m\u001b[0;34m\u001b[0m\u001b[0;34m\u001b[0m\u001b[0m\n\u001b[0m\u001b[1;32m    286\u001b[0m             \u001b[0;32mreturn\u001b[0m \u001b[0;32mTrue\u001b[0m\u001b[0;34m\u001b[0m\u001b[0;34m\u001b[0m\u001b[0m\n\u001b[1;32m    287\u001b[0m \u001b[0;34m\u001b[0m\u001b[0m\n",
            "\u001b[0;32m/usr/local/lib/python3.11/dist-packages/numpy/_core/numeric.py\u001b[0m in \u001b[0;36marray_equal\u001b[0;34m(a1, a2, equal_nan)\u001b[0m\n\u001b[1;32m   2504\u001b[0m         \u001b[0;32mreturn\u001b[0m \u001b[0;32mFalse\u001b[0m\u001b[0;34m\u001b[0m\u001b[0;34m\u001b[0m\u001b[0m\n\u001b[1;32m   2505\u001b[0m     \u001b[0;32mif\u001b[0m \u001b[0;32mnot\u001b[0m \u001b[0mequal_nan\u001b[0m\u001b[0;34m:\u001b[0m\u001b[0;34m\u001b[0m\u001b[0;34m\u001b[0m\u001b[0m\n\u001b[0;32m-> 2506\u001b[0;31m         \u001b[0;32mreturn\u001b[0m \u001b[0mbuiltins\u001b[0m\u001b[0;34m.\u001b[0m\u001b[0mbool\u001b[0m\u001b[0;34m(\u001b[0m\u001b[0;34m(\u001b[0m\u001b[0masanyarray\u001b[0m\u001b[0;34m(\u001b[0m\u001b[0ma1\u001b[0m \u001b[0;34m==\u001b[0m \u001b[0ma2\u001b[0m\u001b[0;34m)\u001b[0m\u001b[0;34m)\u001b[0m\u001b[0;34m.\u001b[0m\u001b[0mall\u001b[0m\u001b[0;34m(\u001b[0m\u001b[0;34m)\u001b[0m\u001b[0;34m)\u001b[0m\u001b[0;34m\u001b[0m\u001b[0;34m\u001b[0m\u001b[0m\n\u001b[0m\u001b[1;32m   2507\u001b[0m \u001b[0;34m\u001b[0m\u001b[0m\n\u001b[1;32m   2508\u001b[0m     \u001b[0;32mif\u001b[0m \u001b[0ma1\u001b[0m \u001b[0;32mis\u001b[0m \u001b[0ma2\u001b[0m\u001b[0;34m:\u001b[0m\u001b[0;34m\u001b[0m\u001b[0;34m\u001b[0m\u001b[0m\n",
            "\u001b[0;32m/usr/local/lib/python3.11/dist-packages/numpy/_core/_methods.py\u001b[0m in \u001b[0;36m_all\u001b[0;34m(a, axis, dtype, out, keepdims, where)\u001b[0m\n\u001b[1;32m     71\u001b[0m     \u001b[0;31m# Parsing keyword arguments is currently fairly slow, so avoid it for now\u001b[0m\u001b[0;34m\u001b[0m\u001b[0;34m\u001b[0m\u001b[0m\n\u001b[1;32m     72\u001b[0m     \u001b[0;32mif\u001b[0m \u001b[0mwhere\u001b[0m \u001b[0;32mis\u001b[0m \u001b[0;32mTrue\u001b[0m\u001b[0;34m:\u001b[0m\u001b[0;34m\u001b[0m\u001b[0;34m\u001b[0m\u001b[0m\n\u001b[0;32m---> 73\u001b[0;31m         \u001b[0;32mreturn\u001b[0m \u001b[0mumr_all\u001b[0m\u001b[0;34m(\u001b[0m\u001b[0ma\u001b[0m\u001b[0;34m,\u001b[0m \u001b[0maxis\u001b[0m\u001b[0;34m,\u001b[0m \u001b[0mdtype\u001b[0m\u001b[0;34m,\u001b[0m \u001b[0mout\u001b[0m\u001b[0;34m,\u001b[0m \u001b[0mkeepdims\u001b[0m\u001b[0;34m)\u001b[0m\u001b[0;34m\u001b[0m\u001b[0;34m\u001b[0m\u001b[0m\n\u001b[0m\u001b[1;32m     74\u001b[0m     \u001b[0;32mreturn\u001b[0m \u001b[0mumr_all\u001b[0m\u001b[0;34m(\u001b[0m\u001b[0ma\u001b[0m\u001b[0;34m,\u001b[0m \u001b[0maxis\u001b[0m\u001b[0;34m,\u001b[0m \u001b[0mdtype\u001b[0m\u001b[0;34m,\u001b[0m \u001b[0mout\u001b[0m\u001b[0;34m,\u001b[0m \u001b[0mkeepdims\u001b[0m\u001b[0;34m,\u001b[0m \u001b[0mwhere\u001b[0m\u001b[0;34m=\u001b[0m\u001b[0mwhere\u001b[0m\u001b[0;34m)\u001b[0m\u001b[0;34m\u001b[0m\u001b[0;34m\u001b[0m\u001b[0m\n\u001b[1;32m     75\u001b[0m \u001b[0;34m\u001b[0m\u001b[0m\n",
            "\u001b[0;31mKeyboardInterrupt\u001b[0m: "
          ]
        }
      ]
    },
    {
      "cell_type": "code",
      "source": [],
      "metadata": {
        "id": "FyC5O1A5opGO"
      },
      "execution_count": null,
      "outputs": []
    }
  ],
  "metadata": {
    "colab": {
      "provenance": [],
      "include_colab_link": true
    },
    "kernelspec": {
      "display_name": "Python 3",
      "name": "python3"
    },
    "language_info": {
      "name": "python"
    }
  },
  "nbformat": 4,
  "nbformat_minor": 0
}